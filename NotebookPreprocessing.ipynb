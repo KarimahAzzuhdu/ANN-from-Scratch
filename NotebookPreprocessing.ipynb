{
  "nbformat": 4,
  "nbformat_minor": 0,
  "metadata": {
    "kernelspec": {
      "display_name": "Python 3",
      "language": "python",
      "name": "python3"
    },
    "language_info": {
      "codemirror_mode": {
        "name": "ipython",
        "version": 3
      },
      "file_extension": ".py",
      "mimetype": "text/x-python",
      "name": "python",
      "nbconvert_exporter": "python",
      "pygments_lexer": "ipython3",
      "version": "3.8.3"
    },
    "colab": {
      "name": "NotebookPreprocessing.ipynb",
      "provenance": []
    }
  },
  "cells": [
    {
      "cell_type": "markdown",
      "metadata": {
        "id": "yPjHofFH33tT"
      },
      "source": [
        "# **UTS Machine Learning**\n",
        "### **Karimah Azzuhdu T.M. (140810170027)**\n",
        "\n",
        "Deskripsi : <br>\n",
        "Notebook ini berisi Analisis Data Titanic dan Data Preprocessing.\n",
        "<br>\n",
        "Output dari notebook ini adalah Dataset Titanic berbentuk csv untuk Pelatihan Model nanti."
      ]
    },
    {
      "cell_type": "markdown",
      "metadata": {
        "id": "sAWRcReA33tZ"
      },
      "source": [
        "### **Import Tools (Library)**"
      ]
    },
    {
      "cell_type": "code",
      "metadata": {
        "id": "m66QpJxb33tc"
      },
      "source": [
        "#Data Manipulation, Perhitungan Matematika, dsb\n",
        "import pandas as pd\n",
        "import numpy as np\n",
        "\n",
        "#Data Visualization\n",
        "import matplotlib.pyplot as plt\n",
        "import seaborn as sns\n",
        "%matplotlib inline\n",
        "\n",
        "#Data Preprocessing\n",
        "from sklearn.preprocessing import StandardScaler, OneHotEncoder, LabelEncoder\n",
        "from sklearn.model_selection import train_test_split\n",
        "\n",
        "#Menghapus Warning yang tidak penting, untuk merapikan presentasi\n",
        "import warnings\n",
        "warnings.filterwarnings(\"ignore\")"
      ],
      "execution_count": 1,
      "outputs": []
    },
    {
      "cell_type": "markdown",
      "metadata": {
        "id": "dqi0Uh2p33ty"
      },
      "source": [
        "# EDA (Exploratory Data Analysis)"
      ]
    },
    {
      "cell_type": "markdown",
      "metadata": {
        "id": "PbMcgxWB73fE"
      },
      "source": [
        "## Peek The Data"
      ]
    },
    {
      "cell_type": "code",
      "metadata": {
        "id": "qZFvrmSv33t1",
        "outputId": "952ad299-1974-4d55-fb81-693ee9e101ab",
        "colab": {
          "base_uri": "https://localhost:8080/",
          "height": 206
        }
      },
      "source": [
        "#import data titanic\n",
        "data = pd.read_csv('train.csv')\n",
        "\n",
        "data.head()"
      ],
      "execution_count": 2,
      "outputs": [
        {
          "output_type": "execute_result",
          "data": {
            "text/html": [
              "<div>\n",
              "<style scoped>\n",
              "    .dataframe tbody tr th:only-of-type {\n",
              "        vertical-align: middle;\n",
              "    }\n",
              "\n",
              "    .dataframe tbody tr th {\n",
              "        vertical-align: top;\n",
              "    }\n",
              "\n",
              "    .dataframe thead th {\n",
              "        text-align: right;\n",
              "    }\n",
              "</style>\n",
              "<table border=\"1\" class=\"dataframe\">\n",
              "  <thead>\n",
              "    <tr style=\"text-align: right;\">\n",
              "      <th></th>\n",
              "      <th>PassengerId</th>\n",
              "      <th>Survived</th>\n",
              "      <th>Pclass</th>\n",
              "      <th>Name</th>\n",
              "      <th>Sex</th>\n",
              "      <th>Age</th>\n",
              "      <th>SibSp</th>\n",
              "      <th>Parch</th>\n",
              "      <th>Ticket</th>\n",
              "      <th>Fare</th>\n",
              "      <th>Cabin</th>\n",
              "      <th>Embarked</th>\n",
              "    </tr>\n",
              "  </thead>\n",
              "  <tbody>\n",
              "    <tr>\n",
              "      <th>0</th>\n",
              "      <td>1</td>\n",
              "      <td>0</td>\n",
              "      <td>3</td>\n",
              "      <td>Braund, Mr. Owen Harris</td>\n",
              "      <td>male</td>\n",
              "      <td>22.0</td>\n",
              "      <td>1</td>\n",
              "      <td>0</td>\n",
              "      <td>A/5 21171</td>\n",
              "      <td>7.2500</td>\n",
              "      <td>NaN</td>\n",
              "      <td>S</td>\n",
              "    </tr>\n",
              "    <tr>\n",
              "      <th>1</th>\n",
              "      <td>2</td>\n",
              "      <td>1</td>\n",
              "      <td>1</td>\n",
              "      <td>Cumings, Mrs. John Bradley (Florence Briggs Th...</td>\n",
              "      <td>female</td>\n",
              "      <td>38.0</td>\n",
              "      <td>1</td>\n",
              "      <td>0</td>\n",
              "      <td>PC 17599</td>\n",
              "      <td>71.2833</td>\n",
              "      <td>C85</td>\n",
              "      <td>C</td>\n",
              "    </tr>\n",
              "    <tr>\n",
              "      <th>2</th>\n",
              "      <td>3</td>\n",
              "      <td>1</td>\n",
              "      <td>3</td>\n",
              "      <td>Heikkinen, Miss. Laina</td>\n",
              "      <td>female</td>\n",
              "      <td>26.0</td>\n",
              "      <td>0</td>\n",
              "      <td>0</td>\n",
              "      <td>STON/O2. 3101282</td>\n",
              "      <td>7.9250</td>\n",
              "      <td>NaN</td>\n",
              "      <td>S</td>\n",
              "    </tr>\n",
              "    <tr>\n",
              "      <th>3</th>\n",
              "      <td>4</td>\n",
              "      <td>1</td>\n",
              "      <td>1</td>\n",
              "      <td>Futrelle, Mrs. Jacques Heath (Lily May Peel)</td>\n",
              "      <td>female</td>\n",
              "      <td>35.0</td>\n",
              "      <td>1</td>\n",
              "      <td>0</td>\n",
              "      <td>113803</td>\n",
              "      <td>53.1000</td>\n",
              "      <td>C123</td>\n",
              "      <td>S</td>\n",
              "    </tr>\n",
              "    <tr>\n",
              "      <th>4</th>\n",
              "      <td>5</td>\n",
              "      <td>0</td>\n",
              "      <td>3</td>\n",
              "      <td>Allen, Mr. William Henry</td>\n",
              "      <td>male</td>\n",
              "      <td>35.0</td>\n",
              "      <td>0</td>\n",
              "      <td>0</td>\n",
              "      <td>373450</td>\n",
              "      <td>8.0500</td>\n",
              "      <td>NaN</td>\n",
              "      <td>S</td>\n",
              "    </tr>\n",
              "  </tbody>\n",
              "</table>\n",
              "</div>"
            ],
            "text/plain": [
              "   PassengerId  Survived  Pclass  ...     Fare Cabin  Embarked\n",
              "0            1         0       3  ...   7.2500   NaN         S\n",
              "1            2         1       1  ...  71.2833   C85         C\n",
              "2            3         1       3  ...   7.9250   NaN         S\n",
              "3            4         1       1  ...  53.1000  C123         S\n",
              "4            5         0       3  ...   8.0500   NaN         S\n",
              "\n",
              "[5 rows x 12 columns]"
            ]
          },
          "metadata": {
            "tags": []
          },
          "execution_count": 2
        }
      ]
    },
    {
      "cell_type": "code",
      "metadata": {
        "scrolled": true,
        "id": "-JnfaLeE33uF",
        "outputId": "ca163f2a-e50d-4923-8631-b7dc1bb36a3d",
        "colab": {
          "base_uri": "https://localhost:8080/"
        }
      },
      "source": [
        "data.info()"
      ],
      "execution_count": 3,
      "outputs": [
        {
          "output_type": "stream",
          "text": [
            "<class 'pandas.core.frame.DataFrame'>\n",
            "RangeIndex: 891 entries, 0 to 890\n",
            "Data columns (total 12 columns):\n",
            " #   Column       Non-Null Count  Dtype  \n",
            "---  ------       --------------  -----  \n",
            " 0   PassengerId  891 non-null    int64  \n",
            " 1   Survived     891 non-null    int64  \n",
            " 2   Pclass       891 non-null    int64  \n",
            " 3   Name         891 non-null    object \n",
            " 4   Sex          891 non-null    object \n",
            " 5   Age          714 non-null    float64\n",
            " 6   SibSp        891 non-null    int64  \n",
            " 7   Parch        891 non-null    int64  \n",
            " 8   Ticket       891 non-null    object \n",
            " 9   Fare         891 non-null    float64\n",
            " 10  Cabin        204 non-null    object \n",
            " 11  Embarked     889 non-null    object \n",
            "dtypes: float64(2), int64(5), object(5)\n",
            "memory usage: 83.7+ KB\n"
          ],
          "name": "stdout"
        }
      ]
    },
    {
      "cell_type": "code",
      "metadata": {
        "id": "xa8uST9l33uU",
        "outputId": "ea21161f-2aff-4a27-f769-7c14dcf0729c",
        "colab": {
          "base_uri": "https://localhost:8080/",
          "height": 395
        }
      },
      "source": [
        "data.describe(include=\"all\")"
      ],
      "execution_count": 4,
      "outputs": [
        {
          "output_type": "execute_result",
          "data": {
            "text/html": [
              "<div>\n",
              "<style scoped>\n",
              "    .dataframe tbody tr th:only-of-type {\n",
              "        vertical-align: middle;\n",
              "    }\n",
              "\n",
              "    .dataframe tbody tr th {\n",
              "        vertical-align: top;\n",
              "    }\n",
              "\n",
              "    .dataframe thead th {\n",
              "        text-align: right;\n",
              "    }\n",
              "</style>\n",
              "<table border=\"1\" class=\"dataframe\">\n",
              "  <thead>\n",
              "    <tr style=\"text-align: right;\">\n",
              "      <th></th>\n",
              "      <th>PassengerId</th>\n",
              "      <th>Survived</th>\n",
              "      <th>Pclass</th>\n",
              "      <th>Name</th>\n",
              "      <th>Sex</th>\n",
              "      <th>Age</th>\n",
              "      <th>SibSp</th>\n",
              "      <th>Parch</th>\n",
              "      <th>Ticket</th>\n",
              "      <th>Fare</th>\n",
              "      <th>Cabin</th>\n",
              "      <th>Embarked</th>\n",
              "    </tr>\n",
              "  </thead>\n",
              "  <tbody>\n",
              "    <tr>\n",
              "      <th>count</th>\n",
              "      <td>891.000000</td>\n",
              "      <td>891.000000</td>\n",
              "      <td>891.000000</td>\n",
              "      <td>891</td>\n",
              "      <td>891</td>\n",
              "      <td>714.000000</td>\n",
              "      <td>891.000000</td>\n",
              "      <td>891.000000</td>\n",
              "      <td>891</td>\n",
              "      <td>891.000000</td>\n",
              "      <td>204</td>\n",
              "      <td>889</td>\n",
              "    </tr>\n",
              "    <tr>\n",
              "      <th>unique</th>\n",
              "      <td>NaN</td>\n",
              "      <td>NaN</td>\n",
              "      <td>NaN</td>\n",
              "      <td>891</td>\n",
              "      <td>2</td>\n",
              "      <td>NaN</td>\n",
              "      <td>NaN</td>\n",
              "      <td>NaN</td>\n",
              "      <td>681</td>\n",
              "      <td>NaN</td>\n",
              "      <td>147</td>\n",
              "      <td>3</td>\n",
              "    </tr>\n",
              "    <tr>\n",
              "      <th>top</th>\n",
              "      <td>NaN</td>\n",
              "      <td>NaN</td>\n",
              "      <td>NaN</td>\n",
              "      <td>Dean, Mr. Bertram Frank</td>\n",
              "      <td>male</td>\n",
              "      <td>NaN</td>\n",
              "      <td>NaN</td>\n",
              "      <td>NaN</td>\n",
              "      <td>347082</td>\n",
              "      <td>NaN</td>\n",
              "      <td>B96 B98</td>\n",
              "      <td>S</td>\n",
              "    </tr>\n",
              "    <tr>\n",
              "      <th>freq</th>\n",
              "      <td>NaN</td>\n",
              "      <td>NaN</td>\n",
              "      <td>NaN</td>\n",
              "      <td>1</td>\n",
              "      <td>577</td>\n",
              "      <td>NaN</td>\n",
              "      <td>NaN</td>\n",
              "      <td>NaN</td>\n",
              "      <td>7</td>\n",
              "      <td>NaN</td>\n",
              "      <td>4</td>\n",
              "      <td>644</td>\n",
              "    </tr>\n",
              "    <tr>\n",
              "      <th>mean</th>\n",
              "      <td>446.000000</td>\n",
              "      <td>0.383838</td>\n",
              "      <td>2.308642</td>\n",
              "      <td>NaN</td>\n",
              "      <td>NaN</td>\n",
              "      <td>29.699118</td>\n",
              "      <td>0.523008</td>\n",
              "      <td>0.381594</td>\n",
              "      <td>NaN</td>\n",
              "      <td>32.204208</td>\n",
              "      <td>NaN</td>\n",
              "      <td>NaN</td>\n",
              "    </tr>\n",
              "    <tr>\n",
              "      <th>std</th>\n",
              "      <td>257.353842</td>\n",
              "      <td>0.486592</td>\n",
              "      <td>0.836071</td>\n",
              "      <td>NaN</td>\n",
              "      <td>NaN</td>\n",
              "      <td>14.526497</td>\n",
              "      <td>1.102743</td>\n",
              "      <td>0.806057</td>\n",
              "      <td>NaN</td>\n",
              "      <td>49.693429</td>\n",
              "      <td>NaN</td>\n",
              "      <td>NaN</td>\n",
              "    </tr>\n",
              "    <tr>\n",
              "      <th>min</th>\n",
              "      <td>1.000000</td>\n",
              "      <td>0.000000</td>\n",
              "      <td>1.000000</td>\n",
              "      <td>NaN</td>\n",
              "      <td>NaN</td>\n",
              "      <td>0.420000</td>\n",
              "      <td>0.000000</td>\n",
              "      <td>0.000000</td>\n",
              "      <td>NaN</td>\n",
              "      <td>0.000000</td>\n",
              "      <td>NaN</td>\n",
              "      <td>NaN</td>\n",
              "    </tr>\n",
              "    <tr>\n",
              "      <th>25%</th>\n",
              "      <td>223.500000</td>\n",
              "      <td>0.000000</td>\n",
              "      <td>2.000000</td>\n",
              "      <td>NaN</td>\n",
              "      <td>NaN</td>\n",
              "      <td>20.125000</td>\n",
              "      <td>0.000000</td>\n",
              "      <td>0.000000</td>\n",
              "      <td>NaN</td>\n",
              "      <td>7.910400</td>\n",
              "      <td>NaN</td>\n",
              "      <td>NaN</td>\n",
              "    </tr>\n",
              "    <tr>\n",
              "      <th>50%</th>\n",
              "      <td>446.000000</td>\n",
              "      <td>0.000000</td>\n",
              "      <td>3.000000</td>\n",
              "      <td>NaN</td>\n",
              "      <td>NaN</td>\n",
              "      <td>28.000000</td>\n",
              "      <td>0.000000</td>\n",
              "      <td>0.000000</td>\n",
              "      <td>NaN</td>\n",
              "      <td>14.454200</td>\n",
              "      <td>NaN</td>\n",
              "      <td>NaN</td>\n",
              "    </tr>\n",
              "    <tr>\n",
              "      <th>75%</th>\n",
              "      <td>668.500000</td>\n",
              "      <td>1.000000</td>\n",
              "      <td>3.000000</td>\n",
              "      <td>NaN</td>\n",
              "      <td>NaN</td>\n",
              "      <td>38.000000</td>\n",
              "      <td>1.000000</td>\n",
              "      <td>0.000000</td>\n",
              "      <td>NaN</td>\n",
              "      <td>31.000000</td>\n",
              "      <td>NaN</td>\n",
              "      <td>NaN</td>\n",
              "    </tr>\n",
              "    <tr>\n",
              "      <th>max</th>\n",
              "      <td>891.000000</td>\n",
              "      <td>1.000000</td>\n",
              "      <td>3.000000</td>\n",
              "      <td>NaN</td>\n",
              "      <td>NaN</td>\n",
              "      <td>80.000000</td>\n",
              "      <td>8.000000</td>\n",
              "      <td>6.000000</td>\n",
              "      <td>NaN</td>\n",
              "      <td>512.329200</td>\n",
              "      <td>NaN</td>\n",
              "      <td>NaN</td>\n",
              "    </tr>\n",
              "  </tbody>\n",
              "</table>\n",
              "</div>"
            ],
            "text/plain": [
              "        PassengerId    Survived      Pclass  ...        Fare    Cabin  Embarked\n",
              "count    891.000000  891.000000  891.000000  ...  891.000000      204       889\n",
              "unique          NaN         NaN         NaN  ...         NaN      147         3\n",
              "top             NaN         NaN         NaN  ...         NaN  B96 B98         S\n",
              "freq            NaN         NaN         NaN  ...         NaN        4       644\n",
              "mean     446.000000    0.383838    2.308642  ...   32.204208      NaN       NaN\n",
              "std      257.353842    0.486592    0.836071  ...   49.693429      NaN       NaN\n",
              "min        1.000000    0.000000    1.000000  ...    0.000000      NaN       NaN\n",
              "25%      223.500000    0.000000    2.000000  ...    7.910400      NaN       NaN\n",
              "50%      446.000000    0.000000    3.000000  ...   14.454200      NaN       NaN\n",
              "75%      668.500000    1.000000    3.000000  ...   31.000000      NaN       NaN\n",
              "max      891.000000    1.000000    3.000000  ...  512.329200      NaN       NaN\n",
              "\n",
              "[11 rows x 12 columns]"
            ]
          },
          "metadata": {
            "tags": []
          },
          "execution_count": 4
        }
      ]
    },
    {
      "cell_type": "code",
      "metadata": {
        "scrolled": false,
        "id": "NyElaOVa33uk",
        "outputId": "34558a9a-2694-40e2-e519-b0b133713fd6",
        "colab": {
          "base_uri": "https://localhost:8080/"
        }
      },
      "source": [
        "#Cek persentase yang selamat\n",
        "data['Survived'].value_counts(normalize=True)"
      ],
      "execution_count": 5,
      "outputs": [
        {
          "output_type": "execute_result",
          "data": {
            "text/plain": [
              "0    0.616162\n",
              "1    0.383838\n",
              "Name: Survived, dtype: float64"
            ]
          },
          "metadata": {
            "tags": []
          },
          "execution_count": 5
        }
      ]
    },
    {
      "cell_type": "code",
      "metadata": {
        "id": "ukaFhxyA33u2",
        "outputId": "5da097e3-34b5-49e7-f246-6a786d6ed51e",
        "colab": {
          "base_uri": "https://localhost:8080/",
          "height": 295
        }
      },
      "source": [
        "selamat = sns.countplot(y=data['Survived']).set_title('Jumlah Selamat dan Tidak dalam Insiden Titanic')"
      ],
      "execution_count": 6,
      "outputs": [
        {
          "output_type": "display_data",
          "data": {
            "image/png": "[encoded data removed]",
            "text/plain": [
              "<Figure size 432x288 with 1 Axes>"
            ]
          },
          "metadata": {
            "tags": [],
            "needs_background": "light"
          }
        }
      ]
    },
    {
      "cell_type": "markdown",
      "metadata": {
        "id": "vXYC3Ch333vD"
      },
      "source": [
        "Jadi yang selamat hanya 38,4% dari seluruh Penumpang"
      ]
    },
    {
      "cell_type": "markdown",
      "metadata": {
        "id": "4dKvouC733vI"
      },
      "source": [
        "## Analisis Feature"
      ]
    },
    {
      "cell_type": "markdown",
      "metadata": {
        "id": "SBQ-f7qY33vL"
      },
      "source": [
        "### Kelas Penumpang (Pclass)"
      ]
    },
    {
      "cell_type": "code",
      "metadata": {
        "id": "AJ4d6E6E33vL",
        "outputId": "5bad1d0d-ff23-4f95-9692-0160b03fe8b1",
        "colab": {
          "base_uri": "https://localhost:8080/"
        }
      },
      "source": [
        "print(data[['Pclass', 'Survived']].groupby(['Pclass'], as_index=False).mean())"
      ],
      "execution_count": 7,
      "outputs": [
        {
          "output_type": "stream",
          "text": [
            "   Pclass  Survived\n",
            "0       1  0.629630\n",
            "1       2  0.472826\n",
            "2       3  0.242363\n"
          ],
          "name": "stdout"
        }
      ]
    },
    {
      "cell_type": "code",
      "metadata": {
        "scrolled": true,
        "id": "FNGAY-P133vS",
        "outputId": "0fc6f510-895a-4dc4-c075-3e276054a5de",
        "colab": {
          "base_uri": "https://localhost:8080/",
          "height": 350
        }
      },
      "source": [
        "# Tingkat keselamatan berdasarkan Pclass\n",
        "fig, axarr = plt.subplots(1, 2, figsize=(10,5))\n",
        "a = sns.countplot(x='Pclass', hue='Survived', data=data,  ax=axarr[0]).set_title('Jumlah Penumpang Selamat dan Tidak berdasarkan Pclass')\n",
        "axarr[1].set_title('Tingkat Keselamatan berdasarkan Pclass')\n",
        "b = sns.barplot(x='Pclass', y='Survived', data=data, ax=axarr[1]).set_ylabel('Survival Rate')"
      ],
      "execution_count": 8,
      "outputs": [
        {
          "output_type": "display_data",
          "data": {
            "image/png": "[encoded data removed]",
            "text/plain": [
              "<Figure size 720x360 with 2 Axes>"
            ]
          },
          "metadata": {
            "tags": [],
            "needs_background": "light"
          }
        }
      ]
    },
    {
      "cell_type": "markdown",
      "metadata": {
        "id": "glRF3sZ233vb"
      },
      "source": [
        "### Jenis Kelamin (Sex)"
      ]
    },
    {
      "cell_type": "code",
      "metadata": {
        "id": "PoWzFMVi33ve",
        "outputId": "8e2ea1df-3802-4a7a-e190-71aeed0f7a40"
      },
      "source": [
        "print(data[['Sex', 'Survived']].groupby(['Sex'], as_index=False).mean())"
      ],
      "execution_count": null,
      "outputs": [
        {
          "output_type": "stream",
          "text": [
            "      Sex  Survived\n",
            "0  female  0.742038\n",
            "1    male  0.188908\n"
          ],
          "name": "stdout"
        }
      ]
    },
    {
      "cell_type": "code",
      "metadata": {
        "scrolled": true,
        "id": "RzeTEFE633vr",
        "outputId": "3ebb6021-2011-4948-80d6-b8ff889c5a7f",
        "colab": {
          "base_uri": "https://localhost:8080/",
          "height": 350
        }
      },
      "source": [
        "# Tingkat keselamatan berdasarkan Jenis Kelamin\n",
        "fig, axarr = plt.subplots(1, 2, figsize=(10,5))\n",
        "a = sns.countplot(data['Sex'], ax=axarr[0]).set_title('Jumlah Penumpang berdasarkan Jenis Kelamin')\n",
        "axarr[1].set_title('Tingkat Keselamatan berdasarkan Jenis Kelamin')\n",
        "b = sns.barplot(x='Sex', y='Survived', data=data, ax=axarr[1]).set_ylabel('Survival Rate')"
      ],
      "execution_count": 9,
      "outputs": [
        {
          "output_type": "display_data",
          "data": {
            "image/png": "[encoded data removed]",
            "text/plain": [
              "<Figure size 720x360 with 2 Axes>"
            ]
          },
          "metadata": {
            "tags": [],
            "needs_background": "light"
          }
        }
      ]
    },
    {
      "cell_type": "markdown",
      "metadata": {
        "id": "49U61lng33v4"
      },
      "source": [
        "### Usia (Age)"
      ]
    },
    {
      "cell_type": "code",
      "metadata": {
        "id": "JsB7UZER33v7",
        "outputId": "4f7d0132-b360-406e-a56e-d942847d0596",
        "colab": {
          "base_uri": "https://localhost:8080/"
        }
      },
      "source": [
        "#Describe Age\n",
        "data.Age.describe()"
      ],
      "execution_count": 10,
      "outputs": [
        {
          "output_type": "execute_result",
          "data": {
            "text/plain": [
              "count    714.000000\n",
              "mean      29.699118\n",
              "std       14.526497\n",
              "min        0.420000\n",
              "25%       20.125000\n",
              "50%       28.000000\n",
              "75%       38.000000\n",
              "max       80.000000\n",
              "Name: Age, dtype: float64"
            ]
          },
          "metadata": {
            "tags": []
          },
          "execution_count": 10
        }
      ]
    },
    {
      "cell_type": "code",
      "metadata": {
        "scrolled": true,
        "id": "JhJs0JQT33wP",
        "outputId": "4d7ea409-86b6-4e21-8b61-53ac250faaa0",
        "colab": {
          "base_uri": "https://localhost:8080/"
        }
      },
      "source": [
        "data['Age'].isnull().sum()"
      ],
      "execution_count": 11,
      "outputs": [
        {
          "output_type": "execute_result",
          "data": {
            "text/plain": [
              "177"
            ]
          },
          "metadata": {
            "tags": []
          },
          "execution_count": 11
        }
      ]
    },
    {
      "cell_type": "code",
      "metadata": {
        "scrolled": false,
        "id": "QnzwYwxA33we",
        "outputId": "a443bcbe-158a-4e94-efe2-f21bd68e506b",
        "colab": {
          "base_uri": "https://localhost:8080/",
          "height": 350
        }
      },
      "source": [
        "#Distibusi Usia\n",
        "fig, axarr = plt.subplots(1,2,figsize=(10,5))\n",
        "axarr[0].set_title('Distribusi Usia')\n",
        "f = sns.distplot(data['Age'], color='g', bins=10, ax=axarr[0])\n",
        "axarr[1].set_title('Distribusi Usia untuk Populasi Selamat dan Tidak Selamat')\n",
        "g = sns.kdeplot(data['Age'].loc[data['Survived'] == 1], \n",
        "                shade= True, ax=axarr[1], label='Survived').set_xlabel('Age')\n",
        "g = sns.kdeplot(data['Age'].loc[data['Survived'] == 0], \n",
        "                shade=True, ax=axarr[1], label='Not Survived')"
      ],
      "execution_count": 12,
      "outputs": [
        {
          "output_type": "display_data",
          "data": {
            "image/png": "[encoded data removed]",
            "text/plain": [
              "<Figure size 720x360 with 2 Axes>"
            ]
          },
          "metadata": {
            "tags": [],
            "needs_background": "light"
          }
        }
      ]
    },
    {
      "cell_type": "markdown",
      "metadata": {
        "id": "MZNxuyhc33ww"
      },
      "source": [
        "### SibSp"
      ]
    },
    {
      "cell_type": "code",
      "metadata": {
        "id": "Yi6C4vUf5uDZ",
        "outputId": "7be83a45-acbe-40f4-8460-e527fd5d00ec",
        "colab": {
          "base_uri": "https://localhost:8080/"
        }
      },
      "source": [
        "print(data[['SibSp', 'Survived']].groupby(['SibSp'], as_index=False).mean())"
      ],
      "execution_count": 14,
      "outputs": [
        {
          "output_type": "stream",
          "text": [
            "   SibSp  Survived\n",
            "0      0  0.345395\n",
            "1      1  0.535885\n",
            "2      2  0.464286\n",
            "3      3  0.250000\n",
            "4      4  0.166667\n",
            "5      5  0.000000\n",
            "6      8  0.000000\n"
          ],
          "name": "stdout"
        }
      ]
    },
    {
      "cell_type": "code",
      "metadata": {
        "id": "xh7UWwzO5zgg",
        "outputId": "486bad3a-675d-401e-a1f2-4f621df527c5",
        "colab": {
          "base_uri": "https://localhost:8080/",
          "height": 350
        }
      },
      "source": [
        "# Tingkat keselamatan berdasarkan SibSp\n",
        "fig, axarr = plt.subplots(1, 2, figsize=(10,5))\n",
        "a = sns.countplot(x='SibSp', data=data,  ax=axarr[0]).set_title('Jumlah Penumpang berdasarkan SibSp')\n",
        "axarr[1].set_title('Tingkat Keselamatan berdasarkan SibSp')\n",
        "b = sns.barplot(x='SibSp', y='Survived', data=data, ax=axarr[1]).set_ylabel('Survival Rate')"
      ],
      "execution_count": 15,
      "outputs": [
        {
          "output_type": "display_data",
          "data": {
            "image/png": "[encoded data removed]",
            "text/plain": [
              "<Figure size 720x360 with 2 Axes>"
            ]
          },
          "metadata": {
            "tags": [],
            "needs_background": "light"
          }
        }
      ]
    },
    {
      "cell_type": "markdown",
      "metadata": {
        "id": "nC2Ua1Cj33xD"
      },
      "source": [
        "### Parch"
      ]
    },
    {
      "cell_type": "code",
      "metadata": {
        "id": "XpfV-nh-33xG",
        "outputId": "bfe3425e-ad6b-4cf0-8711-f8e02f9ac4cd",
        "colab": {
          "base_uri": "https://localhost:8080/"
        }
      },
      "source": [
        "print(data[['Parch', 'Survived']].groupby(['Parch'], as_index=False).mean())"
      ],
      "execution_count": 21,
      "outputs": [
        {
          "output_type": "stream",
          "text": [
            "   Parch  Survived\n",
            "0      0  0.343658\n",
            "1      1  0.550847\n",
            "2      2  0.500000\n",
            "3      3  0.600000\n",
            "4      4  0.000000\n",
            "5      5  0.200000\n",
            "6      6  0.000000\n"
          ],
          "name": "stdout"
        }
      ]
    },
    {
      "cell_type": "code",
      "metadata": {
        "id": "xTkuGYLA6PDm",
        "outputId": "b9433184-2632-4c1c-d5cb-0e5b08017efd",
        "colab": {
          "base_uri": "https://localhost:8080/",
          "height": 350
        }
      },
      "source": [
        "# Tingkat keselamatan berdasarkan Parch\n",
        "fig, axarr = plt.subplots(1, 2, figsize=(10,5))\n",
        "a = sns.countplot(x='Parch', data=data,  ax=axarr[0]).set_title('Jumlah Penumpang berdasarkan Parch')\n",
        "axarr[1].set_title('Tingkat Keselamatan berdasarkan Parch')\n",
        "b = sns.barplot(x='Parch', y='Survived', data=data, ax=axarr[1]).set_ylabel('Survival Rate')"
      ],
      "execution_count": 20,
      "outputs": [
        {
          "output_type": "display_data",
          "data": {
            "image/png": "[encoded data removed]",
            "text/plain": [
              "<Figure size 720x360 with 2 Axes>"
            ]
          },
          "metadata": {
            "tags": [],
            "needs_background": "light"
          }
        }
      ]
    },
    {
      "cell_type": "markdown",
      "metadata": {
        "id": "-6jBJja233xP"
      },
      "source": [
        "### Tarif (Fare)"
      ]
    },
    {
      "cell_type": "code",
      "metadata": {
        "scrolled": true,
        "id": "dtz0hypz33xS",
        "outputId": "5b5e114d-0908-4ec8-9835-ab18e9274478",
        "colab": {
          "base_uri": "https://localhost:8080/"
        }
      },
      "source": [
        "#Describe Fare\n",
        "data.Fare.describe()"
      ],
      "execution_count": 17,
      "outputs": [
        {
          "output_type": "execute_result",
          "data": {
            "text/plain": [
              "count    891.000000\n",
              "mean      32.204208\n",
              "std       49.693429\n",
              "min        0.000000\n",
              "25%        7.910400\n",
              "50%       14.454200\n",
              "75%       31.000000\n",
              "max      512.329200\n",
              "Name: Fare, dtype: float64"
            ]
          },
          "metadata": {
            "tags": []
          },
          "execution_count": 17
        }
      ]
    },
    {
      "cell_type": "code",
      "metadata": {
        "scrolled": true,
        "id": "gMhx9yqs33xj",
        "outputId": "6ab0b90d-c612-4491-9dea-cb5a0a4bdc4c",
        "colab": {
          "base_uri": "https://localhost:8080/"
        }
      },
      "source": [
        "data[data['Fare']==0].shape"
      ],
      "execution_count": 18,
      "outputs": [
        {
          "output_type": "execute_result",
          "data": {
            "text/plain": [
              "(15, 12)"
            ]
          },
          "metadata": {
            "tags": []
          },
          "execution_count": 18
        }
      ]
    },
    {
      "cell_type": "code",
      "metadata": {
        "id": "njgXEtHt33xy",
        "outputId": "178c15c3-8eba-44fa-cdd2-57c088267e00",
        "colab": {
          "base_uri": "https://localhost:8080/",
          "height": 334
        }
      },
      "source": [
        "#Distribusi harga Tarif pada populasi Selamat dan Tidak Selamat\n",
        "plt.figure(figsize=(8,5))\n",
        "g = sns.kdeplot(data['Fare'].loc[data['Survived'] == 1], \n",
        "                shade= True, label='Survived').set_xlabel('Fare')\n",
        "g = sns.kdeplot(data['Fare'].loc[data['Survived'] == 0], \n",
        "                shade=True, label='Not Survived')"
      ],
      "execution_count": 19,
      "outputs": [
        {
          "output_type": "display_data",
          "data": {
            "image/png": "[encoded data removed]",
            "text/plain": [
              "<Figure size 576x360 with 1 Axes>"
            ]
          },
          "metadata": {
            "tags": [],
            "needs_background": "light"
          }
        }
      ]
    },
    {
      "cell_type": "markdown",
      "metadata": {
        "id": "dQGZwOTi33x5"
      },
      "source": [
        "### Ticket\n",
        "Berbentuk Alfanumerik yang bervariasi. Menurut beberapa sumber atribut ini tidak akan berpengaruh pada training model. Maka lebih baik dihilangkan."
      ]
    },
    {
      "cell_type": "code",
      "metadata": {
        "scrolled": true,
        "id": "fl8Gsvug33x8",
        "outputId": "34948686-4dda-42b8-a852-338f8cff8a03",
        "colab": {
          "base_uri": "https://localhost:8080/"
        }
      },
      "source": [
        "#macam-macam tiket\n",
        "data['Ticket'].value_counts()"
      ],
      "execution_count": 22,
      "outputs": [
        {
          "output_type": "execute_result",
          "data": {
            "text/plain": [
              "347082           7\n",
              "CA. 2343         7\n",
              "1601             7\n",
              "347088           6\n",
              "3101295          6\n",
              "                ..\n",
              "250643           1\n",
              "347076           1\n",
              "347069           1\n",
              "350042           1\n",
              "SC/PARIS 2149    1\n",
              "Name: Ticket, Length: 681, dtype: int64"
            ]
          },
          "metadata": {
            "tags": []
          },
          "execution_count": 22
        }
      ]
    },
    {
      "cell_type": "markdown",
      "metadata": {
        "id": "WmWxURgT33yN"
      },
      "source": [
        "### Cabin\n",
        "Berbentuk Alfanumerik yang bervariasi dan jumlah Missing Value yang sangat besar. Atribut ini tidak akan mempengaruhi model training yang dibuat, hal tersebut juga dibenarkan oleh beberapa sumber"
      ]
    },
    {
      "cell_type": "code",
      "metadata": {
        "scrolled": true,
        "id": "xs6ccsrC33yR",
        "outputId": "6bae2b97-a295-4d50-fc6a-8ede2b7c38b9",
        "colab": {
          "base_uri": "https://localhost:8080/"
        }
      },
      "source": [
        "# macam-macam Kabin\n",
        "data['Cabin'].value_counts()"
      ],
      "execution_count": 23,
      "outputs": [
        {
          "output_type": "execute_result",
          "data": {
            "text/plain": [
              "B96 B98        4\n",
              "C23 C25 C27    4\n",
              "G6             4\n",
              "D              3\n",
              "F2             3\n",
              "              ..\n",
              "D21            1\n",
              "D37            1\n",
              "B50            1\n",
              "E31            1\n",
              "C87            1\n",
              "Name: Cabin, Length: 147, dtype: int64"
            ]
          },
          "metadata": {
            "tags": []
          },
          "execution_count": 23
        }
      ]
    },
    {
      "cell_type": "code",
      "metadata": {
        "id": "1IcPgW4Q33yY",
        "outputId": "8f0e97be-4178-4298-c4ec-ba6f8e37fb95",
        "colab": {
          "base_uri": "https://localhost:8080/"
        }
      },
      "source": [
        "data['Cabin'].isnull().sum()"
      ],
      "execution_count": 24,
      "outputs": [
        {
          "output_type": "execute_result",
          "data": {
            "text/plain": [
              "687"
            ]
          },
          "metadata": {
            "tags": []
          },
          "execution_count": 24
        }
      ]
    },
    {
      "cell_type": "markdown",
      "metadata": {
        "id": "atM5S6NH33yg"
      },
      "source": [
        "### Embarked\n",
        "Embarked adalah data yang berisi Lokasi Penumpang naik kapal Titanic. Secara Logika pun dapat dibenarkan bahwa atribut ini tidak relevan dengan tingkat keselamatan."
      ]
    },
    {
      "cell_type": "code",
      "metadata": {
        "scrolled": true,
        "id": "q_cxzaAD33yi",
        "outputId": "d34f5f96-44ac-4f2d-916e-2f12d54b1ca3",
        "colab": {
          "base_uri": "https://localhost:8080/"
        }
      },
      "source": [
        "#macam-macam embarked\n",
        "data['Embarked'].value_counts()"
      ],
      "execution_count": 25,
      "outputs": [
        {
          "output_type": "execute_result",
          "data": {
            "text/plain": [
              "S    644\n",
              "C    168\n",
              "Q     77\n",
              "Name: Embarked, dtype: int64"
            ]
          },
          "metadata": {
            "tags": []
          },
          "execution_count": 25
        }
      ]
    },
    {
      "cell_type": "markdown",
      "metadata": {
        "id": "5zijTdbZ33zD"
      },
      "source": [
        "# Data Preprocessing\n"
      ]
    },
    {
      "cell_type": "markdown",
      "metadata": {
        "id": "9gsRDb0T8GDK"
      },
      "source": [
        "## Feature Engineering"
      ]
    },
    {
      "cell_type": "markdown",
      "metadata": {
        "id": "2lujHY1n8H-M"
      },
      "source": [
        "\n",
        "### Title\n",
        "Nantinya akan dipakai untuk kebutuhan Missing Value Treatment Age"
      ]
    },
    {
      "cell_type": "code",
      "metadata": {
        "id": "TqtijQXc33zG"
      },
      "source": [
        "#Membuat kolom baru berisi Title Penumpang\n",
        "data['Title'] = data['Name'].apply(lambda x: x.split(',')[1].split('.')[0].strip())\n",
        "# Ubah title langka jadi yang umum\n",
        "data['Title'].replace(['Mme', 'Ms', 'Lady', 'Mlle', 'the Countess', 'Dona'], 'Miss', inplace=True)\n",
        "data['Title'].replace(['Major', 'Col', 'Capt', 'Don', 'Sir', 'Jonkheer'], 'Mr', inplace=True)"
      ],
      "execution_count": 28,
      "outputs": []
    },
    {
      "cell_type": "markdown",
      "metadata": {
        "id": "5oeeZtN633zf"
      },
      "source": [
        "### Family Size atau Jumlah Rombongan\n",
        "Penjumlahan SibSp dan Parch ditambah 1"
      ]
    },
    {
      "cell_type": "code",
      "metadata": {
        "id": "2Jj7wNCA33zf",
        "outputId": "adbc3948-26c0-4d01-d547-10ad85670fc6",
        "colab": {
          "base_uri": "https://localhost:8080/"
        }
      },
      "source": [
        "#Menggabungkan Sibsp dan Parch. Ditambah 1 yang artinya si penumpang sendirian.\n",
        "data[\"Fsize\"] = data[\"SibSp\"] + data[\"Parch\"] + 1\n",
        "print(data[['Fsize', 'Survived']].groupby(['Fsize'], as_index=False).mean())"
      ],
      "execution_count": 29,
      "outputs": [
        {
          "output_type": "stream",
          "text": [
            "   Fsize  Survived\n",
            "0      1  0.303538\n",
            "1      2  0.552795\n",
            "2      3  0.578431\n",
            "3      4  0.724138\n",
            "4      5  0.200000\n",
            "5      6  0.136364\n",
            "6      7  0.333333\n",
            "7      8  0.000000\n",
            "8     11  0.000000\n"
          ],
          "name": "stdout"
        }
      ]
    },
    {
      "cell_type": "code",
      "metadata": {
        "scrolled": true,
        "id": "BDL-f-iy33zo",
        "outputId": "e4c2214f-1148-463c-c0ee-610da037e7df",
        "colab": {
          "base_uri": "https://localhost:8080/",
          "height": 350
        }
      },
      "source": [
        "#Distribusi Jumlah Rombongan\n",
        "fig, axarr = plt.subplots(1,2,figsize=(10,5))\n",
        "axarr[0].set_title('Distribusi Jumlah Rombongan per Ticket')\n",
        "f = sns.distplot(data['Fsize'], color='g', bins=40, ax=axarr[0])\n",
        "axarr[1].set_title('Distribusi Rombongan untuk Populasi Selamat dan Tidak')\n",
        "g = sns.kdeplot(data['Fsize'].loc[data['Survived'] == 1], \n",
        "                shade= True, ax=axarr[1], label='Survived').set_xlabel('Fsize')\n",
        "g = sns.kdeplot(data['Fsize'].loc[data['Survived'] == 0], \n",
        "                shade=True, ax=axarr[1], label='Not Survived')"
      ],
      "execution_count": 31,
      "outputs": [
        {
          "output_type": "display_data",
          "data": {
            "image/png": "[encoded data removed]",
            "text/plain": [
              "<Figure size 720x360 with 2 Axes>"
            ]
          },
          "metadata": {
            "tags": [],
            "needs_background": "light"
          }
        }
      ]
    },
    {
      "cell_type": "markdown",
      "metadata": {
        "id": "hF8WuP9e331F"
      },
      "source": [
        "### Age Bins\n",
        "di-run setelah Missing Value di Age di Treatment"
      ]
    },
    {
      "cell_type": "code",
      "metadata": {
        "scrolled": true,
        "id": "LDCH0f55331F",
        "outputId": "ac50a061-a01a-4b74-f3b5-daca671e75c6",
        "colab": {
          "base_uri": "https://localhost:8080/"
        }
      },
      "source": [
        "data['Age'].value_counts()"
      ],
      "execution_count": 41,
      "outputs": [
        {
          "output_type": "execute_result",
          "data": {
            "text/plain": [
              "24.00    30\n",
              "22.00    27\n",
              "18.00    26\n",
              "19.00    25\n",
              "30.00    25\n",
              "         ..\n",
              "55.50     1\n",
              "70.50     1\n",
              "66.00     1\n",
              "23.50     1\n",
              "0.42      1\n",
              "Name: Age, Length: 88, dtype: int64"
            ]
          },
          "metadata": {
            "tags": []
          },
          "execution_count": 41
        }
      ]
    },
    {
      "cell_type": "code",
      "metadata": {
        "scrolled": true,
        "id": "QA6DmX8j331M",
        "outputId": "a86da5e1-6776-4e61-e4c9-9b92854cc87f",
        "colab": {
          "base_uri": "https://localhost:8080/"
        }
      },
      "source": [
        "print(data['Age'].max())\n",
        "print(data['Age'].min())"
      ],
      "execution_count": 42,
      "outputs": [
        {
          "output_type": "stream",
          "text": [
            "80.0\n",
            "0.42\n"
          ],
          "name": "stdout"
        }
      ]
    },
    {
      "cell_type": "markdown",
      "metadata": {
        "id": "Xj6e5mtj331Y"
      },
      "source": [
        "pd.qcut adalah metode binning dengan memperhatikan distribusi data."
      ]
    },
    {
      "cell_type": "code",
      "metadata": {
        "id": "Dgb77PJ6331a"
      },
      "source": [
        "#Making Bins Otomatis\n",
        "data['AgeBin'] = pd.qcut(data['Age'], 5)\n",
        "label = LabelEncoder()\n",
        "data['AgeBin_Code'] = label.fit_transform(data['AgeBin'])"
      ],
      "execution_count": 46,
      "outputs": []
    },
    {
      "cell_type": "code",
      "metadata": {
        "scrolled": true,
        "id": "-xvCeHQP331l",
        "outputId": "8435796a-dc2d-4484-aa3e-e9236e56d3af",
        "colab": {
          "base_uri": "https://localhost:8080/"
        }
      },
      "source": [
        "data['AgeBin'].value_counts()"
      ],
      "execution_count": 47,
      "outputs": [
        {
          "output_type": "execute_result",
          "data": {
            "text/plain": [
              "(26.0, 30.0]     209\n",
              "(0.419, 20.0]    183\n",
              "(38.0, 80.0]     178\n",
              "(20.0, 26.0]     176\n",
              "(30.0, 38.0]     145\n",
              "Name: AgeBin, dtype: int64"
            ]
          },
          "metadata": {
            "tags": []
          },
          "execution_count": 47
        }
      ]
    },
    {
      "cell_type": "code",
      "metadata": {
        "id": "iKd__slK331q",
        "outputId": "33c2f5f1-7a48-494e-85fe-a70483e79431",
        "colab": {
          "base_uri": "https://localhost:8080/"
        }
      },
      "source": [
        "print(data[['AgeBin', 'Survived']].groupby(['AgeBin'], as_index=False).mean())"
      ],
      "execution_count": 48,
      "outputs": [
        {
          "output_type": "stream",
          "text": [
            "          AgeBin  Survived\n",
            "0  (0.419, 20.0]  0.459016\n",
            "1   (20.0, 26.0]  0.397727\n",
            "2   (26.0, 30.0]  0.239234\n",
            "3   (30.0, 38.0]  0.496552\n",
            "4   (38.0, 80.0]  0.370787\n"
          ],
          "name": "stdout"
        }
      ]
    },
    {
      "cell_type": "markdown",
      "metadata": {
        "id": "vZeVr_HI330n"
      },
      "source": [
        "### Fare Bins"
      ]
    },
    {
      "cell_type": "code",
      "metadata": {
        "id": "_kpv41-1330p"
      },
      "source": [
        "# Making Bins Otomatis\n",
        "data['FareBin'] = pd.qcut(data['Fare'], 5)\n",
        "\n",
        "label = LabelEncoder()\n",
        "data['FareBin_Code'] = label.fit_transform(data['FareBin'])"
      ],
      "execution_count": 39,
      "outputs": []
    },
    {
      "cell_type": "code",
      "metadata": {
        "scrolled": true,
        "id": "FZA_HkOW330y",
        "outputId": "b57a1c66-90ad-4ba3-a5f2-1c02beccb941",
        "colab": {
          "base_uri": "https://localhost:8080/"
        }
      },
      "source": [
        "data['FareBin'].value_counts()"
      ],
      "execution_count": 40,
      "outputs": [
        {
          "output_type": "execute_result",
          "data": {
            "text/plain": [
              "(7.854, 10.5]        184\n",
              "(21.679, 39.688]     180\n",
              "(-0.001, 7.854]      179\n",
              "(39.688, 512.329]    176\n",
              "(10.5, 21.679]       172\n",
              "Name: FareBin, dtype: int64"
            ]
          },
          "metadata": {
            "tags": []
          },
          "execution_count": 40
        }
      ]
    },
    {
      "cell_type": "code",
      "metadata": {
        "id": "nK2g25ME3302",
        "outputId": "ca17d846-eb3a-442c-942b-111c3b99a579"
      },
      "source": [
        "print(data[['FareBin', 'Survived']].groupby(['FareBin'], as_index=False).mean())"
      ],
      "execution_count": null,
      "outputs": [
        {
          "output_type": "stream",
          "text": [
            "             FareBin  Survived\n",
            "0    (-0.001, 7.854]  0.217877\n",
            "1      (7.854, 10.5]  0.201087\n",
            "2     (10.5, 21.679]  0.424419\n",
            "3   (21.679, 39.688]  0.444444\n",
            "4  (39.688, 512.329]  0.642045\n"
          ],
          "name": "stdout"
        }
      ]
    },
    {
      "cell_type": "code",
      "metadata": {
        "id": "4Sqg6WGF3306",
        "outputId": "cfeef648-c2fb-46fc-c022-4daf04d03564"
      },
      "source": [
        "print(data['Fare'].max())\n",
        "print(data['Fare'].min())"
      ],
      "execution_count": null,
      "outputs": [
        {
          "output_type": "stream",
          "text": [
            "512.3292\n",
            "0.0\n"
          ],
          "name": "stdout"
        }
      ]
    },
    {
      "cell_type": "markdown",
      "metadata": {
        "id": "JdU_QYum332u"
      },
      "source": [
        "## Missing Value Treatment"
      ]
    },
    {
      "cell_type": "markdown",
      "metadata": {
        "id": "P0b9U5og333K"
      },
      "source": [
        "### Mengisi Age dengan pertimbangan Title"
      ]
    },
    {
      "cell_type": "code",
      "metadata": {
        "id": "2Vi1lINn333K"
      },
      "source": [
        "titles = ['Dr', 'Master', 'Miss', 'Mr', 'Mrs', 'Rev']\n",
        "for title in titles:\n",
        "    age_to_impute = data.groupby('Title')['Age'].median()[titles.index(title)]\n",
        "    data.loc[(data['Age'].isnull()) & (data['Title'] == title), 'Age'] = age_to_impute"
      ],
      "execution_count": 43,
      "outputs": []
    },
    {
      "cell_type": "code",
      "metadata": {
        "id": "xWJUBhsy333O",
        "outputId": "2921291b-4662-432c-cfa2-bdbd4a4cbaae",
        "colab": {
          "base_uri": "https://localhost:8080/"
        }
      },
      "source": [
        "data['Age'].isnull().sum()"
      ],
      "execution_count": 44,
      "outputs": [
        {
          "output_type": "execute_result",
          "data": {
            "text/plain": [
              "0"
            ]
          },
          "metadata": {
            "tags": []
          },
          "execution_count": 44
        }
      ]
    },
    {
      "cell_type": "code",
      "metadata": {
        "id": "jSXeoYpl333S",
        "outputId": "b6cc4a9d-b24a-4e5f-b27d-5c4171885042",
        "colab": {
          "base_uri": "https://localhost:8080/",
          "height": 350
        }
      },
      "source": [
        "#Distibusi Usia Baru\n",
        "fig, axarr = plt.subplots(1,2,figsize=(10,5))\n",
        "axarr[0].set_title('Distribusi Usia baru')\n",
        "f = sns.distplot(data['Age'], color='g', bins=40, ax=axarr[0])\n",
        "axarr[1].set_title('Distribusi Usia baru untuk Populasi Selamat dan Tidak Selamat')\n",
        "g = sns.kdeplot(data['Age'].loc[data['Survived'] == 1], \n",
        "                shade= True, ax=axarr[1], label='Survived').set_xlabel('Age')\n",
        "g = sns.kdeplot(data['Age'].loc[data['Survived'] == 0], \n",
        "                shade=True, ax=axarr[1], label='Not Survived')"
      ],
      "execution_count": 45,
      "outputs": [
        {
          "output_type": "display_data",
          "data": {
            "image/png": "[encoded data removed]",
            "text/plain": [
              "<Figure size 720x360 with 2 Axes>"
            ]
          },
          "metadata": {
            "tags": [],
            "needs_background": "light"
          }
        }
      ]
    },
    {
      "cell_type": "markdown",
      "metadata": {
        "id": "3LGdTpvf-Wcn"
      },
      "source": [
        "## Make New DataFrame"
      ]
    },
    {
      "cell_type": "markdown",
      "metadata": {
        "id": "aqFr4ENi333d"
      },
      "source": [
        "**Copy dataframe ke DataFrame baru (data_p)**"
      ]
    },
    {
      "cell_type": "code",
      "metadata": {
        "id": "Rc61Pvsk333g",
        "outputId": "70551cc9-657c-45de-c365-50b8a7b1153c",
        "colab": {
          "base_uri": "https://localhost:8080/",
          "height": 397
        }
      },
      "source": [
        "#copy data\n",
        "data_p = data.copy()\n",
        "data_p.head()"
      ],
      "execution_count": 49,
      "outputs": [
        {
          "output_type": "execute_result",
          "data": {
            "text/html": [
              "<div>\n",
              "<style scoped>\n",
              "    .dataframe tbody tr th:only-of-type {\n",
              "        vertical-align: middle;\n",
              "    }\n",
              "\n",
              "    .dataframe tbody tr th {\n",
              "        vertical-align: top;\n",
              "    }\n",
              "\n",
              "    .dataframe thead th {\n",
              "        text-align: right;\n",
              "    }\n",
              "</style>\n",
              "<table border=\"1\" class=\"dataframe\">\n",
              "  <thead>\n",
              "    <tr style=\"text-align: right;\">\n",
              "      <th></th>\n",
              "      <th>PassengerId</th>\n",
              "      <th>Survived</th>\n",
              "      <th>Pclass</th>\n",
              "      <th>Name</th>\n",
              "      <th>Sex</th>\n",
              "      <th>Age</th>\n",
              "      <th>SibSp</th>\n",
              "      <th>Parch</th>\n",
              "      <th>Ticket</th>\n",
              "      <th>Fare</th>\n",
              "      <th>Cabin</th>\n",
              "      <th>Embarked</th>\n",
              "      <th>Title</th>\n",
              "      <th>Fsize</th>\n",
              "      <th>AgeBin</th>\n",
              "      <th>FareBin</th>\n",
              "      <th>FareBin_Code</th>\n",
              "      <th>AgeBin_Code</th>\n",
              "    </tr>\n",
              "  </thead>\n",
              "  <tbody>\n",
              "    <tr>\n",
              "      <th>0</th>\n",
              "      <td>1</td>\n",
              "      <td>0</td>\n",
              "      <td>3</td>\n",
              "      <td>Braund, Mr. Owen Harris</td>\n",
              "      <td>male</td>\n",
              "      <td>22.0</td>\n",
              "      <td>1</td>\n",
              "      <td>0</td>\n",
              "      <td>A/5 21171</td>\n",
              "      <td>7.2500</td>\n",
              "      <td>NaN</td>\n",
              "      <td>S</td>\n",
              "      <td>Mr</td>\n",
              "      <td>2</td>\n",
              "      <td>(20.0, 26.0]</td>\n",
              "      <td>(-0.001, 7.854]</td>\n",
              "      <td>0</td>\n",
              "      <td>1</td>\n",
              "    </tr>\n",
              "    <tr>\n",
              "      <th>1</th>\n",
              "      <td>2</td>\n",
              "      <td>1</td>\n",
              "      <td>1</td>\n",
              "      <td>Cumings, Mrs. John Bradley (Florence Briggs Th...</td>\n",
              "      <td>female</td>\n",
              "      <td>38.0</td>\n",
              "      <td>1</td>\n",
              "      <td>0</td>\n",
              "      <td>PC 17599</td>\n",
              "      <td>71.2833</td>\n",
              "      <td>C85</td>\n",
              "      <td>C</td>\n",
              "      <td>Mrs</td>\n",
              "      <td>2</td>\n",
              "      <td>(30.0, 38.0]</td>\n",
              "      <td>(39.688, 512.329]</td>\n",
              "      <td>4</td>\n",
              "      <td>3</td>\n",
              "    </tr>\n",
              "    <tr>\n",
              "      <th>2</th>\n",
              "      <td>3</td>\n",
              "      <td>1</td>\n",
              "      <td>3</td>\n",
              "      <td>Heikkinen, Miss. Laina</td>\n",
              "      <td>female</td>\n",
              "      <td>26.0</td>\n",
              "      <td>0</td>\n",
              "      <td>0</td>\n",
              "      <td>STON/O2. 3101282</td>\n",
              "      <td>7.9250</td>\n",
              "      <td>NaN</td>\n",
              "      <td>S</td>\n",
              "      <td>Miss</td>\n",
              "      <td>1</td>\n",
              "      <td>(20.0, 26.0]</td>\n",
              "      <td>(7.854, 10.5]</td>\n",
              "      <td>1</td>\n",
              "      <td>1</td>\n",
              "    </tr>\n",
              "    <tr>\n",
              "      <th>3</th>\n",
              "      <td>4</td>\n",
              "      <td>1</td>\n",
              "      <td>1</td>\n",
              "      <td>Futrelle, Mrs. Jacques Heath (Lily May Peel)</td>\n",
              "      <td>female</td>\n",
              "      <td>35.0</td>\n",
              "      <td>1</td>\n",
              "      <td>0</td>\n",
              "      <td>113803</td>\n",
              "      <td>53.1000</td>\n",
              "      <td>C123</td>\n",
              "      <td>S</td>\n",
              "      <td>Mrs</td>\n",
              "      <td>2</td>\n",
              "      <td>(30.0, 38.0]</td>\n",
              "      <td>(39.688, 512.329]</td>\n",
              "      <td>4</td>\n",
              "      <td>3</td>\n",
              "    </tr>\n",
              "    <tr>\n",
              "      <th>4</th>\n",
              "      <td>5</td>\n",
              "      <td>0</td>\n",
              "      <td>3</td>\n",
              "      <td>Allen, Mr. William Henry</td>\n",
              "      <td>male</td>\n",
              "      <td>35.0</td>\n",
              "      <td>0</td>\n",
              "      <td>0</td>\n",
              "      <td>373450</td>\n",
              "      <td>8.0500</td>\n",
              "      <td>NaN</td>\n",
              "      <td>S</td>\n",
              "      <td>Mr</td>\n",
              "      <td>1</td>\n",
              "      <td>(30.0, 38.0]</td>\n",
              "      <td>(7.854, 10.5]</td>\n",
              "      <td>1</td>\n",
              "      <td>3</td>\n",
              "    </tr>\n",
              "  </tbody>\n",
              "</table>\n",
              "</div>"
            ],
            "text/plain": [
              "   PassengerId  Survived  Pclass  ...            FareBin FareBin_Code  AgeBin_Code\n",
              "0            1         0       3  ...    (-0.001, 7.854]            0            1\n",
              "1            2         1       1  ...  (39.688, 512.329]            4            3\n",
              "2            3         1       3  ...      (7.854, 10.5]            1            1\n",
              "3            4         1       1  ...  (39.688, 512.329]            4            3\n",
              "4            5         0       3  ...      (7.854, 10.5]            1            3\n",
              "\n",
              "[5 rows x 18 columns]"
            ]
          },
          "metadata": {
            "tags": []
          },
          "execution_count": 49
        }
      ]
    },
    {
      "cell_type": "code",
      "metadata": {
        "id": "A456AcnM333o",
        "outputId": "983006ba-0705-42fc-8983-6141874612c7",
        "colab": {
          "base_uri": "https://localhost:8080/"
        }
      },
      "source": [
        "data_p.info()"
      ],
      "execution_count": 50,
      "outputs": [
        {
          "output_type": "stream",
          "text": [
            "<class 'pandas.core.frame.DataFrame'>\n",
            "RangeIndex: 891 entries, 0 to 890\n",
            "Data columns (total 18 columns):\n",
            " #   Column        Non-Null Count  Dtype   \n",
            "---  ------        --------------  -----   \n",
            " 0   PassengerId   891 non-null    int64   \n",
            " 1   Survived      891 non-null    int64   \n",
            " 2   Pclass        891 non-null    int64   \n",
            " 3   Name          891 non-null    object  \n",
            " 4   Sex           891 non-null    object  \n",
            " 5   Age           891 non-null    float64 \n",
            " 6   SibSp         891 non-null    int64   \n",
            " 7   Parch         891 non-null    int64   \n",
            " 8   Ticket        891 non-null    object  \n",
            " 9   Fare          891 non-null    float64 \n",
            " 10  Cabin         204 non-null    object  \n",
            " 11  Embarked      889 non-null    object  \n",
            " 12  Title         891 non-null    object  \n",
            " 13  Fsize         891 non-null    int64   \n",
            " 14  AgeBin        891 non-null    category\n",
            " 15  FareBin       891 non-null    category\n",
            " 16  FareBin_Code  891 non-null    int64   \n",
            " 17  AgeBin_Code   891 non-null    int64   \n",
            "dtypes: category(2), float64(2), int64(8), object(6)\n",
            "memory usage: 113.7+ KB\n"
          ],
          "name": "stdout"
        }
      ]
    },
    {
      "cell_type": "markdown",
      "metadata": {
        "id": "3aBY83Df333u"
      },
      "source": [
        "**Preprocessing Data_p**"
      ]
    },
    {
      "cell_type": "code",
      "metadata": {
        "id": "_4Ce120y333v"
      },
      "source": [
        "#Drop\n",
        "labels_drop = ['PassengerId','Name', 'SibSp', 'Parch', 'Ticket', 'Cabin', \n",
        "               'Embarked','Title','Fare', 'FareBin', 'AgeBin','Age']\n",
        "data_p.drop(labels = labels_drop, axis = 1, inplace = True)"
      ],
      "execution_count": 52,
      "outputs": []
    },
    {
      "cell_type": "code",
      "metadata": {
        "id": "cC5DF8EN334H"
      },
      "source": [
        "#Replace\n",
        "data_p['Sex'] = data_p['Sex'].map({\"male\": 0, \"female\":1})"
      ],
      "execution_count": 53,
      "outputs": []
    },
    {
      "cell_type": "markdown",
      "metadata": {
        "id": "yIwYMKTw334K"
      },
      "source": [
        "**Cek DataFrame yang sudah di preprocessing**"
      ]
    },
    {
      "cell_type": "code",
      "metadata": {
        "scrolled": true,
        "id": "VzuR8qxK334O",
        "outputId": "3afeed7e-4482-4954-e677-371a90e586b4",
        "colab": {
          "base_uri": "https://localhost:8080/",
          "height": 206
        }
      },
      "source": [
        "data_p.head()"
      ],
      "execution_count": 54,
      "outputs": [
        {
          "output_type": "execute_result",
          "data": {
            "text/html": [
              "<div>\n",
              "<style scoped>\n",
              "    .dataframe tbody tr th:only-of-type {\n",
              "        vertical-align: middle;\n",
              "    }\n",
              "\n",
              "    .dataframe tbody tr th {\n",
              "        vertical-align: top;\n",
              "    }\n",
              "\n",
              "    .dataframe thead th {\n",
              "        text-align: right;\n",
              "    }\n",
              "</style>\n",
              "<table border=\"1\" class=\"dataframe\">\n",
              "  <thead>\n",
              "    <tr style=\"text-align: right;\">\n",
              "      <th></th>\n",
              "      <th>Survived</th>\n",
              "      <th>Pclass</th>\n",
              "      <th>Sex</th>\n",
              "      <th>Fsize</th>\n",
              "      <th>FareBin_Code</th>\n",
              "      <th>AgeBin_Code</th>\n",
              "    </tr>\n",
              "  </thead>\n",
              "  <tbody>\n",
              "    <tr>\n",
              "      <th>0</th>\n",
              "      <td>0</td>\n",
              "      <td>3</td>\n",
              "      <td>0</td>\n",
              "      <td>2</td>\n",
              "      <td>0</td>\n",
              "      <td>1</td>\n",
              "    </tr>\n",
              "    <tr>\n",
              "      <th>1</th>\n",
              "      <td>1</td>\n",
              "      <td>1</td>\n",
              "      <td>1</td>\n",
              "      <td>2</td>\n",
              "      <td>4</td>\n",
              "      <td>3</td>\n",
              "    </tr>\n",
              "    <tr>\n",
              "      <th>2</th>\n",
              "      <td>1</td>\n",
              "      <td>3</td>\n",
              "      <td>1</td>\n",
              "      <td>1</td>\n",
              "      <td>1</td>\n",
              "      <td>1</td>\n",
              "    </tr>\n",
              "    <tr>\n",
              "      <th>3</th>\n",
              "      <td>1</td>\n",
              "      <td>1</td>\n",
              "      <td>1</td>\n",
              "      <td>2</td>\n",
              "      <td>4</td>\n",
              "      <td>3</td>\n",
              "    </tr>\n",
              "    <tr>\n",
              "      <th>4</th>\n",
              "      <td>0</td>\n",
              "      <td>3</td>\n",
              "      <td>0</td>\n",
              "      <td>1</td>\n",
              "      <td>1</td>\n",
              "      <td>3</td>\n",
              "    </tr>\n",
              "  </tbody>\n",
              "</table>\n",
              "</div>"
            ],
            "text/plain": [
              "   Survived  Pclass  Sex  Fsize  FareBin_Code  AgeBin_Code\n",
              "0         0       3    0      2             0            1\n",
              "1         1       1    1      2             4            3\n",
              "2         1       3    1      1             1            1\n",
              "3         1       1    1      2             4            3\n",
              "4         0       3    0      1             1            3"
            ]
          },
          "metadata": {
            "tags": []
          },
          "execution_count": 54
        }
      ]
    },
    {
      "cell_type": "markdown",
      "metadata": {
        "id": "sFXvZbFF3340"
      },
      "source": [
        "**Simpen DataFrame hasil Preprocessing kedalam csv**"
      ]
    },
    {
      "cell_type": "code",
      "metadata": {
        "id": "amEPm3683340"
      },
      "source": [
        "data_p.to_csv('titanic_prep.csv',index=False)"
      ],
      "execution_count": 56,
      "outputs": []
    }
  ]
}