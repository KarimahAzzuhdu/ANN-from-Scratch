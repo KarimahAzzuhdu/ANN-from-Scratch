{
 "cells": [
  {
   "cell_type": "markdown",
   "metadata": {
    "id": "ymtjSmqhX21c"
   },
   "source": [
    "# <center>**UTS Machine Learning**\n",
    "### Karimah Azzuhdu T.M. (140810170027)\n",
    "\n",
    "Deskripsi : <br>\n",
    "Prediksi Survive/Death pada Insiden Titanic dengan menggunakan Artificial Neural Network (ANN) sederhana.<br>\n",
    "Data diambil dari kompetisi Titanic yang sudah melalui Preprocessing.\n",
    "<br> Penjelasan Proses Data Preprocessing yang dilakukan terdapat di NotebookPreprocessing.ipynb\n",
    "<br>\n",
    "Link Sumber Data : [Competition Kaggle - Titanic : Machine Learning from Disaster ](https://www.kaggle.com/c/titanic)"
   ]
  },
  {
   "cell_type": "markdown",
   "metadata": {},
   "source": [
    "(Jangan lupa ini udah update)"
   ]
  },
  {
   "cell_type": "markdown",
   "metadata": {
    "id": "IoMsBHEKiaAc"
   },
   "source": [
    "### Import Tools"
   ]
  },
  {
   "cell_type": "code",
   "execution_count": 2,
   "metadata": {
    "id": "BD6z93uUVdS9"
   },
   "outputs": [],
   "source": [
    "#import tools/library pendukung\n",
    "\n",
    "#untuk manipulasi data dan perhitungan matematis\n",
    "import pandas as pd\n",
    "import numpy as np\n",
    "\n",
    "#untuk visualisasi data\n",
    "import matplotlib.pyplot as plt\n",
    "import seaborn as sns\n",
    "\n",
    "#untuk Data Preprocessing tambahan\n",
    "from sklearn.model_selection import train_test_split\n",
    "\n",
    "#Menghapus Warning yang tidak penting, untuk merapikan presentasi\n",
    "import warnings\n",
    "warnings.filterwarnings(\"ignore\")"
   ]
  },
  {
   "cell_type": "markdown",
   "metadata": {
    "id": "xH5P8Ju9ZqnD"
   },
   "source": [
    "# Peek the Data"
   ]
  },
  {
   "cell_type": "markdown",
   "metadata": {
    "id": "BjpqqnDNdB-a"
   },
   "source": [
    "**Dataset Asli**"
   ]
  },
  {
   "cell_type": "code",
   "execution_count": 16,
   "metadata": {
    "colab": {
     "base_uri": "https://localhost:8080/",
     "height": 206
    },
    "id": "GVoD4UYDc_nU",
    "outputId": "9299c08e-f7c3-4b5e-cd67-e77d9134797c"
   },
   "outputs": [
    {
     "data": {
      "text/html": [
       "<div>\n",
       "<style scoped>\n",
       "    .dataframe tbody tr th:only-of-type {\n",
       "        vertical-align: middle;\n",
       "    }\n",
       "\n",
       "    .dataframe tbody tr th {\n",
       "        vertical-align: top;\n",
       "    }\n",
       "\n",
       "    .dataframe thead th {\n",
       "        text-align: right;\n",
       "    }\n",
       "</style>\n",
       "<table border=\"1\" class=\"dataframe\">\n",
       "  <thead>\n",
       "    <tr style=\"text-align: right;\">\n",
       "      <th></th>\n",
       "      <th>PassengerId</th>\n",
       "      <th>Survived</th>\n",
       "      <th>Pclass</th>\n",
       "      <th>Name</th>\n",
       "      <th>Sex</th>\n",
       "      <th>Age</th>\n",
       "      <th>SibSp</th>\n",
       "      <th>Parch</th>\n",
       "      <th>Ticket</th>\n",
       "      <th>Fare</th>\n",
       "      <th>Cabin</th>\n",
       "      <th>Embarked</th>\n",
       "    </tr>\n",
       "  </thead>\n",
       "  <tbody>\n",
       "    <tr>\n",
       "      <th>0</th>\n",
       "      <td>1</td>\n",
       "      <td>0</td>\n",
       "      <td>3</td>\n",
       "      <td>Braund, Mr. Owen Harris</td>\n",
       "      <td>male</td>\n",
       "      <td>22.0</td>\n",
       "      <td>1</td>\n",
       "      <td>0</td>\n",
       "      <td>A/5 21171</td>\n",
       "      <td>7.2500</td>\n",
       "      <td>NaN</td>\n",
       "      <td>S</td>\n",
       "    </tr>\n",
       "    <tr>\n",
       "      <th>1</th>\n",
       "      <td>2</td>\n",
       "      <td>1</td>\n",
       "      <td>1</td>\n",
       "      <td>Cumings, Mrs. John Bradley (Florence Briggs Th...</td>\n",
       "      <td>female</td>\n",
       "      <td>38.0</td>\n",
       "      <td>1</td>\n",
       "      <td>0</td>\n",
       "      <td>PC 17599</td>\n",
       "      <td>71.2833</td>\n",
       "      <td>C85</td>\n",
       "      <td>C</td>\n",
       "    </tr>\n",
       "    <tr>\n",
       "      <th>2</th>\n",
       "      <td>3</td>\n",
       "      <td>1</td>\n",
       "      <td>3</td>\n",
       "      <td>Heikkinen, Miss. Laina</td>\n",
       "      <td>female</td>\n",
       "      <td>26.0</td>\n",
       "      <td>0</td>\n",
       "      <td>0</td>\n",
       "      <td>STON/O2. 3101282</td>\n",
       "      <td>7.9250</td>\n",
       "      <td>NaN</td>\n",
       "      <td>S</td>\n",
       "    </tr>\n",
       "    <tr>\n",
       "      <th>3</th>\n",
       "      <td>4</td>\n",
       "      <td>1</td>\n",
       "      <td>1</td>\n",
       "      <td>Futrelle, Mrs. Jacques Heath (Lily May Peel)</td>\n",
       "      <td>female</td>\n",
       "      <td>35.0</td>\n",
       "      <td>1</td>\n",
       "      <td>0</td>\n",
       "      <td>113803</td>\n",
       "      <td>53.1000</td>\n",
       "      <td>C123</td>\n",
       "      <td>S</td>\n",
       "    </tr>\n",
       "    <tr>\n",
       "      <th>4</th>\n",
       "      <td>5</td>\n",
       "      <td>0</td>\n",
       "      <td>3</td>\n",
       "      <td>Allen, Mr. William Henry</td>\n",
       "      <td>male</td>\n",
       "      <td>35.0</td>\n",
       "      <td>0</td>\n",
       "      <td>0</td>\n",
       "      <td>373450</td>\n",
       "      <td>8.0500</td>\n",
       "      <td>NaN</td>\n",
       "      <td>S</td>\n",
       "    </tr>\n",
       "  </tbody>\n",
       "</table>\n",
       "</div>"
      ],
      "text/plain": [
       "   PassengerId  Survived  Pclass  \\\n",
       "0            1         0       3   \n",
       "1            2         1       1   \n",
       "2            3         1       3   \n",
       "3            4         1       1   \n",
       "4            5         0       3   \n",
       "\n",
       "                                                Name     Sex   Age  SibSp  \\\n",
       "0                            Braund, Mr. Owen Harris    male  22.0      1   \n",
       "1  Cumings, Mrs. John Bradley (Florence Briggs Th...  female  38.0      1   \n",
       "2                             Heikkinen, Miss. Laina  female  26.0      0   \n",
       "3       Futrelle, Mrs. Jacques Heath (Lily May Peel)  female  35.0      1   \n",
       "4                           Allen, Mr. William Henry    male  35.0      0   \n",
       "\n",
       "   Parch            Ticket     Fare Cabin Embarked  \n",
       "0      0         A/5 21171   7.2500   NaN        S  \n",
       "1      0          PC 17599  71.2833   C85        C  \n",
       "2      0  STON/O2. 3101282   7.9250   NaN        S  \n",
       "3      0            113803  53.1000  C123        S  \n",
       "4      0            373450   8.0500   NaN        S  "
      ]
     },
     "execution_count": 16,
     "metadata": {},
     "output_type": "execute_result"
    }
   ],
   "source": [
    "titanic_asli = pd.read_csv('train.csv')\n",
    "titanic_asli.head()"
   ]
  },
  {
   "cell_type": "code",
   "execution_count": 17,
   "metadata": {
    "colab": {
     "base_uri": "https://localhost:8080/"
    },
    "id": "gUu_6tkspLH3",
    "outputId": "e63e2659-5257-4d05-ac1c-9e4ce45bae83",
    "scrolled": true
   },
   "outputs": [
    {
     "name": "stdout",
     "output_type": "stream",
     "text": [
      "<class 'pandas.core.frame.DataFrame'>\n",
      "RangeIndex: 891 entries, 0 to 890\n",
      "Data columns (total 12 columns):\n",
      " #   Column       Non-Null Count  Dtype  \n",
      "---  ------       --------------  -----  \n",
      " 0   PassengerId  891 non-null    int64  \n",
      " 1   Survived     891 non-null    int64  \n",
      " 2   Pclass       891 non-null    int64  \n",
      " 3   Name         891 non-null    object \n",
      " 4   Sex          891 non-null    object \n",
      " 5   Age          714 non-null    float64\n",
      " 6   SibSp        891 non-null    int64  \n",
      " 7   Parch        891 non-null    int64  \n",
      " 8   Ticket       891 non-null    object \n",
      " 9   Fare         891 non-null    float64\n",
      " 10  Cabin        204 non-null    object \n",
      " 11  Embarked     889 non-null    object \n",
      "dtypes: float64(2), int64(5), object(5)\n",
      "memory usage: 83.7+ KB\n"
     ]
    }
   ],
   "source": [
    "titanic_asli.info()"
   ]
  },
  {
   "cell_type": "code",
   "execution_count": 18,
   "metadata": {},
   "outputs": [
    {
     "data": {
      "text/html": [
       "<div>\n",
       "<style scoped>\n",
       "    .dataframe tbody tr th:only-of-type {\n",
       "        vertical-align: middle;\n",
       "    }\n",
       "\n",
       "    .dataframe tbody tr th {\n",
       "        vertical-align: top;\n",
       "    }\n",
       "\n",
       "    .dataframe thead th {\n",
       "        text-align: right;\n",
       "    }\n",
       "</style>\n",
       "<table border=\"1\" class=\"dataframe\">\n",
       "  <thead>\n",
       "    <tr style=\"text-align: right;\">\n",
       "      <th></th>\n",
       "      <th>PassengerId</th>\n",
       "      <th>Survived</th>\n",
       "      <th>Pclass</th>\n",
       "      <th>Age</th>\n",
       "      <th>SibSp</th>\n",
       "      <th>Parch</th>\n",
       "      <th>Fare</th>\n",
       "    </tr>\n",
       "  </thead>\n",
       "  <tbody>\n",
       "    <tr>\n",
       "      <th>count</th>\n",
       "      <td>891.000000</td>\n",
       "      <td>891.000000</td>\n",
       "      <td>891.000000</td>\n",
       "      <td>714.000000</td>\n",
       "      <td>891.000000</td>\n",
       "      <td>891.000000</td>\n",
       "      <td>891.000000</td>\n",
       "    </tr>\n",
       "    <tr>\n",
       "      <th>mean</th>\n",
       "      <td>446.000000</td>\n",
       "      <td>0.383838</td>\n",
       "      <td>2.308642</td>\n",
       "      <td>29.699118</td>\n",
       "      <td>0.523008</td>\n",
       "      <td>0.381594</td>\n",
       "      <td>32.204208</td>\n",
       "    </tr>\n",
       "    <tr>\n",
       "      <th>std</th>\n",
       "      <td>257.353842</td>\n",
       "      <td>0.486592</td>\n",
       "      <td>0.836071</td>\n",
       "      <td>14.526497</td>\n",
       "      <td>1.102743</td>\n",
       "      <td>0.806057</td>\n",
       "      <td>49.693429</td>\n",
       "    </tr>\n",
       "    <tr>\n",
       "      <th>min</th>\n",
       "      <td>1.000000</td>\n",
       "      <td>0.000000</td>\n",
       "      <td>1.000000</td>\n",
       "      <td>0.420000</td>\n",
       "      <td>0.000000</td>\n",
       "      <td>0.000000</td>\n",
       "      <td>0.000000</td>\n",
       "    </tr>\n",
       "    <tr>\n",
       "      <th>25%</th>\n",
       "      <td>223.500000</td>\n",
       "      <td>0.000000</td>\n",
       "      <td>2.000000</td>\n",
       "      <td>20.125000</td>\n",
       "      <td>0.000000</td>\n",
       "      <td>0.000000</td>\n",
       "      <td>7.910400</td>\n",
       "    </tr>\n",
       "    <tr>\n",
       "      <th>50%</th>\n",
       "      <td>446.000000</td>\n",
       "      <td>0.000000</td>\n",
       "      <td>3.000000</td>\n",
       "      <td>28.000000</td>\n",
       "      <td>0.000000</td>\n",
       "      <td>0.000000</td>\n",
       "      <td>14.454200</td>\n",
       "    </tr>\n",
       "    <tr>\n",
       "      <th>75%</th>\n",
       "      <td>668.500000</td>\n",
       "      <td>1.000000</td>\n",
       "      <td>3.000000</td>\n",
       "      <td>38.000000</td>\n",
       "      <td>1.000000</td>\n",
       "      <td>0.000000</td>\n",
       "      <td>31.000000</td>\n",
       "    </tr>\n",
       "    <tr>\n",
       "      <th>max</th>\n",
       "      <td>891.000000</td>\n",
       "      <td>1.000000</td>\n",
       "      <td>3.000000</td>\n",
       "      <td>80.000000</td>\n",
       "      <td>8.000000</td>\n",
       "      <td>6.000000</td>\n",
       "      <td>512.329200</td>\n",
       "    </tr>\n",
       "  </tbody>\n",
       "</table>\n",
       "</div>"
      ],
      "text/plain": [
       "       PassengerId    Survived      Pclass         Age       SibSp  \\\n",
       "count   891.000000  891.000000  891.000000  714.000000  891.000000   \n",
       "mean    446.000000    0.383838    2.308642   29.699118    0.523008   \n",
       "std     257.353842    0.486592    0.836071   14.526497    1.102743   \n",
       "min       1.000000    0.000000    1.000000    0.420000    0.000000   \n",
       "25%     223.500000    0.000000    2.000000   20.125000    0.000000   \n",
       "50%     446.000000    0.000000    3.000000   28.000000    0.000000   \n",
       "75%     668.500000    1.000000    3.000000   38.000000    1.000000   \n",
       "max     891.000000    1.000000    3.000000   80.000000    8.000000   \n",
       "\n",
       "            Parch        Fare  \n",
       "count  891.000000  891.000000  \n",
       "mean     0.381594   32.204208  \n",
       "std      0.806057   49.693429  \n",
       "min      0.000000    0.000000  \n",
       "25%      0.000000    7.910400  \n",
       "50%      0.000000   14.454200  \n",
       "75%      0.000000   31.000000  \n",
       "max      6.000000  512.329200  "
      ]
     },
     "execution_count": 18,
     "metadata": {},
     "output_type": "execute_result"
    }
   ],
   "source": [
    "titanic_asli.describe()"
   ]
  },
  {
   "cell_type": "markdown",
   "metadata": {
    "id": "Jy1MBhh6dHXx"
   },
   "source": [
    "**Dataset hasil Preprocessing**"
   ]
  },
  {
   "cell_type": "code",
   "execution_count": 19,
   "metadata": {
    "colab": {
     "base_uri": "https://localhost:8080/",
     "height": 206
    },
    "id": "KDoXpW7-dMbb",
    "outputId": "eae468a3-dfce-4dae-e2a4-bf8126708454"
   },
   "outputs": [
    {
     "data": {
      "text/html": [
       "<div>\n",
       "<style scoped>\n",
       "    .dataframe tbody tr th:only-of-type {\n",
       "        vertical-align: middle;\n",
       "    }\n",
       "\n",
       "    .dataframe tbody tr th {\n",
       "        vertical-align: top;\n",
       "    }\n",
       "\n",
       "    .dataframe thead th {\n",
       "        text-align: right;\n",
       "    }\n",
       "</style>\n",
       "<table border=\"1\" class=\"dataframe\">\n",
       "  <thead>\n",
       "    <tr style=\"text-align: right;\">\n",
       "      <th></th>\n",
       "      <th>Survived</th>\n",
       "      <th>Pclass</th>\n",
       "      <th>Sex</th>\n",
       "      <th>Fsize</th>\n",
       "      <th>AgeBin_Code</th>\n",
       "      <th>FareBin_Code</th>\n",
       "    </tr>\n",
       "  </thead>\n",
       "  <tbody>\n",
       "    <tr>\n",
       "      <th>0</th>\n",
       "      <td>0</td>\n",
       "      <td>3</td>\n",
       "      <td>0</td>\n",
       "      <td>2</td>\n",
       "      <td>1</td>\n",
       "      <td>0</td>\n",
       "    </tr>\n",
       "    <tr>\n",
       "      <th>1</th>\n",
       "      <td>1</td>\n",
       "      <td>1</td>\n",
       "      <td>1</td>\n",
       "      <td>2</td>\n",
       "      <td>3</td>\n",
       "      <td>4</td>\n",
       "    </tr>\n",
       "    <tr>\n",
       "      <th>2</th>\n",
       "      <td>1</td>\n",
       "      <td>3</td>\n",
       "      <td>1</td>\n",
       "      <td>1</td>\n",
       "      <td>1</td>\n",
       "      <td>1</td>\n",
       "    </tr>\n",
       "    <tr>\n",
       "      <th>3</th>\n",
       "      <td>1</td>\n",
       "      <td>1</td>\n",
       "      <td>1</td>\n",
       "      <td>2</td>\n",
       "      <td>3</td>\n",
       "      <td>4</td>\n",
       "    </tr>\n",
       "    <tr>\n",
       "      <th>4</th>\n",
       "      <td>0</td>\n",
       "      <td>3</td>\n",
       "      <td>0</td>\n",
       "      <td>1</td>\n",
       "      <td>3</td>\n",
       "      <td>1</td>\n",
       "    </tr>\n",
       "  </tbody>\n",
       "</table>\n",
       "</div>"
      ],
      "text/plain": [
       "   Survived  Pclass  Sex  Fsize  AgeBin_Code  FareBin_Code\n",
       "0         0       3    0      2            1             0\n",
       "1         1       1    1      2            3             4\n",
       "2         1       3    1      1            1             1\n",
       "3         1       1    1      2            3             4\n",
       "4         0       3    0      1            3             1"
      ]
     },
     "execution_count": 19,
     "metadata": {},
     "output_type": "execute_result"
    }
   ],
   "source": [
    "titanic = pd.read_csv('titanic_prep.csv')\n",
    "titanic.head()"
   ]
  },
  {
   "cell_type": "code",
   "execution_count": 20,
   "metadata": {
    "colab": {
     "base_uri": "https://localhost:8080/",
     "height": 300
    },
    "id": "8EovWK0rDZNC",
    "outputId": "2c337f04-b07b-4d36-ee04-e2d68034d087"
   },
   "outputs": [
    {
     "data": {
      "text/html": [
       "<div>\n",
       "<style scoped>\n",
       "    .dataframe tbody tr th:only-of-type {\n",
       "        vertical-align: middle;\n",
       "    }\n",
       "\n",
       "    .dataframe tbody tr th {\n",
       "        vertical-align: top;\n",
       "    }\n",
       "\n",
       "    .dataframe thead th {\n",
       "        text-align: right;\n",
       "    }\n",
       "</style>\n",
       "<table border=\"1\" class=\"dataframe\">\n",
       "  <thead>\n",
       "    <tr style=\"text-align: right;\">\n",
       "      <th></th>\n",
       "      <th>Survived</th>\n",
       "      <th>Pclass</th>\n",
       "      <th>Sex</th>\n",
       "      <th>Fsize</th>\n",
       "      <th>AgeBin_Code</th>\n",
       "      <th>FareBin_Code</th>\n",
       "    </tr>\n",
       "  </thead>\n",
       "  <tbody>\n",
       "    <tr>\n",
       "      <th>count</th>\n",
       "      <td>891.000000</td>\n",
       "      <td>891.000000</td>\n",
       "      <td>891.000000</td>\n",
       "      <td>891.000000</td>\n",
       "      <td>891.000000</td>\n",
       "      <td>891.000000</td>\n",
       "    </tr>\n",
       "    <tr>\n",
       "      <th>mean</th>\n",
       "      <td>0.383838</td>\n",
       "      <td>2.308642</td>\n",
       "      <td>0.352413</td>\n",
       "      <td>1.904602</td>\n",
       "      <td>1.953984</td>\n",
       "      <td>1.988777</td>\n",
       "    </tr>\n",
       "    <tr>\n",
       "      <th>std</th>\n",
       "      <td>0.486592</td>\n",
       "      <td>0.836071</td>\n",
       "      <td>0.477990</td>\n",
       "      <td>1.613459</td>\n",
       "      <td>1.407489</td>\n",
       "      <td>1.415757</td>\n",
       "    </tr>\n",
       "    <tr>\n",
       "      <th>min</th>\n",
       "      <td>0.000000</td>\n",
       "      <td>1.000000</td>\n",
       "      <td>0.000000</td>\n",
       "      <td>1.000000</td>\n",
       "      <td>0.000000</td>\n",
       "      <td>0.000000</td>\n",
       "    </tr>\n",
       "    <tr>\n",
       "      <th>25%</th>\n",
       "      <td>0.000000</td>\n",
       "      <td>2.000000</td>\n",
       "      <td>0.000000</td>\n",
       "      <td>1.000000</td>\n",
       "      <td>1.000000</td>\n",
       "      <td>1.000000</td>\n",
       "    </tr>\n",
       "    <tr>\n",
       "      <th>50%</th>\n",
       "      <td>0.000000</td>\n",
       "      <td>3.000000</td>\n",
       "      <td>0.000000</td>\n",
       "      <td>1.000000</td>\n",
       "      <td>2.000000</td>\n",
       "      <td>2.000000</td>\n",
       "    </tr>\n",
       "    <tr>\n",
       "      <th>75%</th>\n",
       "      <td>1.000000</td>\n",
       "      <td>3.000000</td>\n",
       "      <td>1.000000</td>\n",
       "      <td>2.000000</td>\n",
       "      <td>3.000000</td>\n",
       "      <td>3.000000</td>\n",
       "    </tr>\n",
       "    <tr>\n",
       "      <th>max</th>\n",
       "      <td>1.000000</td>\n",
       "      <td>3.000000</td>\n",
       "      <td>1.000000</td>\n",
       "      <td>11.000000</td>\n",
       "      <td>4.000000</td>\n",
       "      <td>4.000000</td>\n",
       "    </tr>\n",
       "  </tbody>\n",
       "</table>\n",
       "</div>"
      ],
      "text/plain": [
       "         Survived      Pclass         Sex       Fsize  AgeBin_Code  \\\n",
       "count  891.000000  891.000000  891.000000  891.000000   891.000000   \n",
       "mean     0.383838    2.308642    0.352413    1.904602     1.953984   \n",
       "std      0.486592    0.836071    0.477990    1.613459     1.407489   \n",
       "min      0.000000    1.000000    0.000000    1.000000     0.000000   \n",
       "25%      0.000000    2.000000    0.000000    1.000000     1.000000   \n",
       "50%      0.000000    3.000000    0.000000    1.000000     2.000000   \n",
       "75%      1.000000    3.000000    1.000000    2.000000     3.000000   \n",
       "max      1.000000    3.000000    1.000000   11.000000     4.000000   \n",
       "\n",
       "       FareBin_Code  \n",
       "count    891.000000  \n",
       "mean       1.988777  \n",
       "std        1.415757  \n",
       "min        0.000000  \n",
       "25%        1.000000  \n",
       "50%        2.000000  \n",
       "75%        3.000000  \n",
       "max        4.000000  "
      ]
     },
     "execution_count": 20,
     "metadata": {},
     "output_type": "execute_result"
    }
   ],
   "source": [
    "titanic.describe()"
   ]
  },
  {
   "cell_type": "markdown",
   "metadata": {
    "id": "r_UgH8rabBT5"
   },
   "source": [
    "**Informasi Dataset hasil Preprocessing**\n",
    "<br>\n",
    "Feature :\n",
    "\n",
    "* Pclass : Menunjukan socio-economic status (SES) (1=Upper, 2=Middle, 3=Lower)\n",
    "* Sex : Jenis Kelamin (0=male, 1=female)\n",
    "* Fsize : Jumlah Keluarga yang berangkat bersama (1=sendiri, dst)\n",
    "* AgeBin_Code : Pengelompokan Usia [0,20,26,30,38,80]\n",
    "* FareBin_Code : Pengelompokan Jumlah Pengeluaran diatas kapal Titanic [0,8,11,22,40,512]\n",
    "\n",
    "Target : \n",
    "* Survived (0=Death, 1=Survived)"
   ]
  },
  {
   "cell_type": "markdown",
   "metadata": {
    "id": "Nr3y0epkhHZ3"
   },
   "source": [
    "### Feature dan Target\n",
    "Memisahkan dataframe titanic menjadi 2 dataframe baru. Kemudian dipisah lagi untuk Training dan Test"
   ]
  },
  {
   "cell_type": "code",
   "execution_count": 60,
   "metadata": {
    "id": "Dra9JYWQHQ_R"
   },
   "outputs": [],
   "source": [
    "#Pisah feature dan target\n",
    "features = titanic.drop('Survived', axis=1)\n",
    "target = titanic[['Survived']]\n",
    "\n",
    "#Split\n",
    "X_train,X_test,y_train,y_test = train_test_split(features,target,test_size=0.2)\n",
    "\n",
    "X_train = X_train.reset_index(drop=True)\n",
    "X_test = X_test.reset_index(drop=True)\n",
    "y_train = y_train.reset_index(drop=True)\n",
    "y_test = y_test.reset_index(drop=True)"
   ]
  },
  {
   "cell_type": "markdown",
   "metadata": {
    "id": "qyIPBxE4ankB"
   },
   "source": [
    "# Build Model"
   ]
  },
  {
   "cell_type": "markdown",
   "metadata": {
    "id": "kLQYjw4iKECy"
   },
   "source": [
    "## **ANN - Single Layer Perceptron**\n",
    "<br>\n",
    "\n",
    "![Imgur](https://www.analyticsvidhya.com/wp-content/uploads/2016/07/SLP.png)\n",
    "\n",
    "\n",
    "**Output = (Weight1 x Input1) + (Weight2 x Input2) + ... + (WeightN x InputN) + Bias**"
   ]
  },
  {
   "cell_type": "markdown",
   "metadata": {},
   "source": [
    "### Membuat bobot awal"
   ]
  },
  {
   "cell_type": "code",
   "execution_count": 22,
   "metadata": {},
   "outputs": [
    {
     "data": {
      "text/plain": [
       "[0.5219839097124932,\n",
       " 0.5219839097124932,\n",
       " 0.5219839097124932,\n",
       " 0.5219839097124932,\n",
       " 0.5219839097124932]"
      ]
     },
     "execution_count": 22,
     "metadata": {},
     "output_type": "execute_result"
    }
   ],
   "source": [
    "import random\n",
    "\n",
    "random.seed(17)\n",
    "bobot = [random.random()] * 5\n",
    "bobot"
   ]
  },
  {
   "cell_type": "markdown",
   "metadata": {},
   "source": [
    "### Input x Weight (Bobot)"
   ]
  },
  {
   "cell_type": "code",
   "execution_count": 23,
   "metadata": {},
   "outputs": [],
   "source": [
    "def input_kali_bobot(baris_narray, bobot):\n",
    "    multiply = 0\n",
    "    for i,value in enumerate(baris_narray):\n",
    "        multiply += bobot[i] * value\n",
    "    return multiply"
   ]
  },
  {
   "cell_type": "markdown",
   "metadata": {},
   "source": [
    "### Tambah bias"
   ]
  },
  {
   "cell_type": "code",
   "execution_count": 24,
   "metadata": {},
   "outputs": [],
   "source": [
    "#langsung tambah bisa, atau kalo mau modular bikin fungsi\n",
    "def tambah_bias(jumlah_kali, bias):\n",
    "    return jumlah_kali + bias"
   ]
  },
  {
   "cell_type": "markdown",
   "metadata": {
    "id": "Ix3muwtKexg7"
   },
   "source": [
    "### Fungsi Aktivasi"
   ]
  },
  {
   "cell_type": "code",
   "execution_count": 25,
   "metadata": {
    "id": "0LEPz1u5ewgQ"
   },
   "outputs": [],
   "source": [
    "#Hardlimit\n",
    "def hardlimit_act(x):\n",
    "    if x >= 0 :\n",
    "        f = 1\n",
    "    else :\n",
    "        f = 0\n",
    "    return f\n",
    "\n",
    "#Sigmoid\n",
    "def sigmoid_act(x, der=False):\n",
    "    import numpy as np\n",
    "    \n",
    "    if (der==True) : #turunan sigmoid\n",
    "        f = x/(1-x)\n",
    "    else : #sigmoid\n",
    "        f = 1/(1+ np.exp(-x))\n",
    "    \n",
    "    return f\n",
    "\n",
    "#ReLU\n",
    "def ReLU_act(x, der=False):\n",
    "    import numpy as np\n",
    "    \n",
    "    if (der== True):\n",
    "        if x>0 :\n",
    "            f = 1\n",
    "        else :\n",
    "            f = 0\n",
    "    else :\n",
    "        if x>0:\n",
    "            f = x\n",
    "        else :\n",
    "            f = 0\n",
    "            \n",
    "    return f"
   ]
  },
  {
   "cell_type": "markdown",
   "metadata": {},
   "source": [
    "### Callback"
   ]
  },
  {
   "cell_type": "code",
   "execution_count": 47,
   "metadata": {},
   "outputs": [],
   "source": [
    "def callback_ori(akurasi, goals=70):\n",
    "    if akurasi > goals :\n",
    "        return True\n",
    "    else :\n",
    "        return False"
   ]
  },
  {
   "cell_type": "markdown",
   "metadata": {},
   "source": [
    "## Proses Pembelajaran\n",
    "\n",
    "**DeltaBobot_baru = Kecepatan_belajar * Input * (Target - Output)**\n",
    "<br>\n",
    "**Bobot_iter_berikutnya = Bobot_lama + DeltaBobot_baru**\n",
    "\n",
    "Kecepatan Belajar atau Learning Rate (0<n=<1) <br>\n",
    "\n",
    "**DeltaBias_baru = Kecepatan_belajar * (Target-Output)**\n",
    "<br>\n",
    "**Biar_iter_berikutnya = Bias_lama + DeltaBias_baru**\n"
   ]
  },
  {
   "cell_type": "code",
   "execution_count": 26,
   "metadata": {},
   "outputs": [],
   "source": [
    "def perbaiki_bobot_bias(baris_narray, bobot_lama, bias_lama, nilai_target, nilai_prediksi, kec_belajar):\n",
    "    bobot_baru = bobot_lama\n",
    "    bias_baru = bias_lama\n",
    "    for i, value in enumerate(baris_narray):\n",
    "        bobot_baru[i] += kec_belajar * value * (nilai_target-nilai_prediksi)\n",
    "    bias_baru += kec_belajar * (nilai_target-nilai_prediksi)\n",
    "    return bobot_baru, bias_baru"
   ]
  },
  {
   "cell_type": "markdown",
   "metadata": {
    "id": "kPSy6XYBgNa-"
   },
   "source": [
    "### Fungsi Perceptron untuk Training\n",
    "Parameter Input :\n",
    "* feature : DataFrame\n",
    "* target : DataFrame\n",
    "* maxEpoch : int\n",
    "* learnRate : int\n",
    "\n"
   ]
  },
  {
   "cell_type": "code",
   "execution_count": 74,
   "metadata": {
    "id": "k4ozsM6lZ46O"
   },
   "outputs": [],
   "source": [
    "import random\n",
    "\n",
    "def perceptron_train(features, target, maxEpoch, learnRate=0.1):\n",
    "    #deklarasi variabel awal\n",
    "    b = 1 #bias\n",
    "    baris = features.shape[0] #jumlah baris data\n",
    "    kolom = features.shape[1] #jumlah kolom data\n",
    "    random.seed(17)\n",
    "    weight = [random.random()] * kolom #weight untuk setiap feature\n",
    "    y_predict = [0] * baris #hasil prediksi untuk setiap baris\n",
    "    multiply = 0 #penampung hasil perkalian nilai feature dengan weight\n",
    "    epoch = 0 #nilai epoch\n",
    "    \n",
    "    #deklarasi variabel bias dan weight terbaik\n",
    "    best_b = 1\n",
    "    best_weight = [0] * kolom\n",
    "    best_predict = [0] * baris\n",
    "    lowest_error = np.inf\n",
    "    \n",
    "    #Looping untuk setiap barisnya\n",
    "    while(epoch < maxEpoch):\n",
    "        error_per_epoch = 0 #jumlah error pada satu epoch\n",
    "        for index,row in features.iterrows():\n",
    "            #multiply diisi hasil dari fungsi input_kali_bobot\n",
    "            multiply = input_kali_bobot(row, weight)\n",
    "\n",
    "            #tambah bias\n",
    "            Y_in = b + multiply\n",
    "            \n",
    "            #fungsi aktivasi\n",
    "            #y_predict[index] = hardlimit_act(Y_in)\n",
    "            y_predict[index] = ReLU_act(Y_in, True)\n",
    "\n",
    "            if(y_predict[index] != target.iloc[index,0]):\n",
    "                #jika terdapat perbedaan hasil prediksi dengan target asli, perbaiki weight dan bias\n",
    "                weight, b = perbaiki_bobot_bias(row, weight, b,\n",
    "                                                target.iloc[index,0],\n",
    "                                                y_predict[index],\n",
    "                                                learnRate)\n",
    "                \n",
    "                error_per_epoch += 1 #tambahkan jumlah error\n",
    "                \n",
    "            if(index==baris-1): #jika seluruh baris telah dihitung, tambahkan nilai epoch\n",
    "                epoch += 1\n",
    "                \n",
    "        if(error_per_epoch < lowest_error): #penyimpanan nilai bias, weight, hasil prediksi, dan error terbaik\n",
    "            best_b = b\n",
    "            best_weight = weight.copy()\n",
    "            best_predict = y_predict.copy()\n",
    "            best_epoch = epoch\n",
    "            lowest_error = error_per_epoch\n",
    "        \n",
    "        #print akurasi setiap epochnya\n",
    "        akurasi = round(1-error_per_epoch/baris,3)*100\n",
    "        print(\"Accuracy Epoch Ke \",epoch,\" : \",str(akurasi)[0:4],\"%\")\n",
    "        \n",
    "        if callback_ori(akurasi,72.5) : break\n",
    "    return best_weight, best_b, best_predict, best_epoch"
   ]
  },
  {
   "cell_type": "markdown",
   "metadata": {
    "id": "puR3b_DhauHD"
   },
   "source": [
    "# Training"
   ]
  },
  {
   "cell_type": "markdown",
   "metadata": {
    "id": "M85CnulDhhcz"
   },
   "source": [
    "### Memulai Training"
   ]
  },
  {
   "cell_type": "code",
   "execution_count": 59,
   "metadata": {
    "colab": {
     "base_uri": "https://localhost:8080/"
    },
    "id": "Y5UhrWiWeY_-",
    "outputId": "d3915138-cc7b-4617-f1cd-838812c89e5a",
    "scrolled": false
   },
   "outputs": [
    {
     "name": "stdout",
     "output_type": "stream",
     "text": [
      "Accuracy Epoch Ke  1  :  68.8 %\n",
      "Accuracy Epoch Ke  2  :  70.8 %\n",
      "Accuracy Epoch Ke  3  :  71.5 %\n",
      "Accuracy Epoch Ke  4  :  72.3 %\n",
      "Accuracy Epoch Ke  5  :  71.6 %\n",
      "Accuracy Epoch Ke  6  :  71.7 %\n",
      "Accuracy Epoch Ke  7  :  72.8 %\n",
      "Accuracy Epoch Ke  8  :  73.0 %\n",
      "Accuracy Epoch Ke  9  :  71.8 %\n",
      "Accuracy Epoch Ke  10  :  72.3 %\n",
      "Accuracy Epoch Ke  11  :  72.5 %\n",
      "Accuracy Epoch Ke  12  :  71.8 %\n",
      "Accuracy Epoch Ke  13  :  71.3 %\n",
      "Accuracy Epoch Ke  14  :  72.3 %\n",
      "Accuracy Epoch Ke  15  :  71.3 %\n",
      "Accuracy Epoch Ke  16  :  71.0 %\n",
      "Accuracy Epoch Ke  17  :  71.6 %\n",
      "Accuracy Epoch Ke  18  :  72.6 %\n",
      "Accuracy Epoch Ke  19  :  70.5 %\n",
      "Accuracy Epoch Ke  20  :  71.8 %\n",
      "Accuracy Epoch Ke  21  :  71.8 %\n",
      "Accuracy Epoch Ke  22  :  71.7 %\n",
      "Accuracy Epoch Ke  23  :  71.8 %\n",
      "Accuracy Epoch Ke  24  :  70.5 %\n",
      "Accuracy Epoch Ke  25  :  72.1 %\n",
      "Accuracy Epoch Ke  26  :  71.8 %\n",
      "Accuracy Epoch Ke  27  :  71.8 %\n",
      "Accuracy Epoch Ke  28  :  71.3 %\n",
      "Accuracy Epoch Ke  29  :  71.8 %\n",
      "Accuracy Epoch Ke  30  :  71.3 %\n",
      "Accuracy Epoch Ke  31  :  71.6 %\n",
      "Accuracy Epoch Ke  32  :  70.7 %\n",
      "Accuracy Epoch Ke  33  :  71.5 %\n",
      "Accuracy Epoch Ke  34  :  71.5 %\n",
      "Accuracy Epoch Ke  35  :  70.5 %\n",
      "Accuracy Epoch Ke  36  :  73.3 %\n"
     ]
    }
   ],
   "source": [
    "model_weight, model_bias, model_predict, model_epoch = perceptron_train(features,target, 50, 0.1)"
   ]
  },
  {
   "cell_type": "code",
   "execution_count": 75,
   "metadata": {},
   "outputs": [
    {
     "name": "stdout",
     "output_type": "stream",
     "text": [
      "Accuracy Epoch Ke  1  :  68.8 %\n",
      "Accuracy Epoch Ke  2  :  71.5 %\n",
      "Accuracy Epoch Ke  3  :  70.8 %\n",
      "Accuracy Epoch Ke  4  :  71.5 %\n",
      "Accuracy Epoch Ke  5  :  71.8 %\n",
      "Accuracy Epoch Ke  6  :  72.1 %\n",
      "Accuracy Epoch Ke  7  :  70.8 %\n",
      "Accuracy Epoch Ke  8  :  70.6 %\n",
      "Accuracy Epoch Ke  9  :  72.5 %\n",
      "Accuracy Epoch Ke  10  :  71.2 %\n",
      "Accuracy Epoch Ke  11  :  71.5 %\n",
      "Accuracy Epoch Ke  12  :  70.8 %\n",
      "Accuracy Epoch Ke  13  :  71.6 %\n",
      "Accuracy Epoch Ke  14  :  72.8 %\n"
     ]
    }
   ],
   "source": [
    "model_weight_train, model_bias_train, model_predict_train, model_epoch_train = perceptron_train(X_train,y_train, 50, 0.1)"
   ]
  },
  {
   "cell_type": "markdown",
   "metadata": {
    "id": "9PCHXX3gkfsZ"
   },
   "source": [
    "### Hasil Training\n",
    "Didapat nilai bobot dan bias terbaik pada salah satu epoch, nantinya dimasukan ke program"
   ]
  },
  {
   "cell_type": "code",
   "execution_count": 31,
   "metadata": {
    "colab": {
     "base_uri": "https://localhost:8080/"
    },
    "id": "YXXg1ZCRIC6F",
    "outputId": "bcb2f816-2a22-4986-f65c-bae1c0eda3bb"
   },
   "outputs": [
    {
     "data": {
      "text/plain": [
       "([-0.7780160902875188,\n",
       "  2.221983909712494,\n",
       "  -0.5780160902874948,\n",
       "  -0.1780160902874953,\n",
       "  0.6219839097124882],\n",
       " 0.6000000000000001,\n",
       " 36)"
      ]
     },
     "execution_count": 31,
     "metadata": {},
     "output_type": "execute_result"
    }
   ],
   "source": [
    "model_weight, model_bias, model_epoch"
   ]
  },
  {
   "cell_type": "markdown",
   "metadata": {
    "id": "CPNgCW9_OOpk"
   },
   "source": [
    "# Prediction\n"
   ]
  },
  {
   "cell_type": "markdown",
   "metadata": {
    "id": "biohR47pinmJ"
   },
   "source": [
    "### Prediction DataFrame"
   ]
  },
  {
   "cell_type": "code",
   "execution_count": 32,
   "metadata": {
    "id": "eBOPYzvQOWTA"
   },
   "outputs": [],
   "source": [
    "def perceptron_predict(features, weight, b):\n",
    "    #deklarasi variabel awal\n",
    "    y_predict = [0] * features.shape[0] #hasil prediksi untuk setiap baris\n",
    "    multiply = 0 #penampung hasil perkalian nilai feature dengan weight\n",
    "    \n",
    "    for index,row in features.iterrows():\n",
    "        #multiply diisi hasil dari fungsi input_kali_bobot\n",
    "        multiply = input_kali_bobot(row, weight)\n",
    "\n",
    "        #jumlahkan hasil perkalian dengan bias\n",
    "        Y_in = b + multiply \n",
    "        \n",
    "        #fungsi aktivasi\n",
    "        y_predict[index] = hardlimit_act(Y_in)\n",
    "        \n",
    "    return y_predict"
   ]
  },
  {
   "cell_type": "markdown",
   "metadata": {
    "id": "QQ_iL4N_ittC"
   },
   "source": [
    "### Prediction Single List"
   ]
  },
  {
   "cell_type": "code",
   "execution_count": 53,
   "metadata": {
    "id": "3wbK_4s4WMX6"
   },
   "outputs": [],
   "source": [
    "def single_predict_titanic(list_val, weight, bias):\n",
    "    multiply = []\n",
    "    for i in range(0,len(list_val)) :\n",
    "        multiply.append(weight[i] * list_val[i])\n",
    "        Y_in = bias + sum(multiply)\n",
    "        y_predict = hardlimit_act(Y_in)\n",
    "    return y_predict"
   ]
  },
  {
   "cell_type": "markdown",
   "metadata": {
    "id": "6OwfH6WOfRx5"
   },
   "source": [
    "### Membuat Prediction DataFrame (data test titanic)"
   ]
  },
  {
   "cell_type": "code",
   "execution_count": 76,
   "metadata": {
    "colab": {
     "base_uri": "https://localhost:8080/",
     "height": 206
    },
    "id": "yYCA2IFBfRNf",
    "outputId": "5969b6bc-4469-4369-c307-8d57700b8de1"
   },
   "outputs": [
    {
     "data": {
      "text/html": [
       "<div>\n",
       "<style scoped>\n",
       "    .dataframe tbody tr th:only-of-type {\n",
       "        vertical-align: middle;\n",
       "    }\n",
       "\n",
       "    .dataframe tbody tr th {\n",
       "        vertical-align: top;\n",
       "    }\n",
       "\n",
       "    .dataframe thead th {\n",
       "        text-align: right;\n",
       "    }\n",
       "</style>\n",
       "<table border=\"1\" class=\"dataframe\">\n",
       "  <thead>\n",
       "    <tr style=\"text-align: right;\">\n",
       "      <th></th>\n",
       "      <th>0</th>\n",
       "    </tr>\n",
       "  </thead>\n",
       "  <tbody>\n",
       "    <tr>\n",
       "      <th>0</th>\n",
       "      <td>1</td>\n",
       "    </tr>\n",
       "    <tr>\n",
       "      <th>1</th>\n",
       "      <td>0</td>\n",
       "    </tr>\n",
       "    <tr>\n",
       "      <th>2</th>\n",
       "      <td>0</td>\n",
       "    </tr>\n",
       "    <tr>\n",
       "      <th>3</th>\n",
       "      <td>0</td>\n",
       "    </tr>\n",
       "    <tr>\n",
       "      <th>4</th>\n",
       "      <td>0</td>\n",
       "    </tr>\n",
       "  </tbody>\n",
       "</table>\n",
       "</div>"
      ],
      "text/plain": [
       "   0\n",
       "0  1\n",
       "1  0\n",
       "2  0\n",
       "3  0\n",
       "4  0"
      ]
     },
     "execution_count": 76,
     "metadata": {},
     "output_type": "execute_result"
    }
   ],
   "source": [
    "target_test = perceptron_predict(X_test, model_weight, model_bias)\n",
    "pred_test = pd.DataFrame(target_test)\n",
    "pred_test.head()"
   ]
  },
  {
   "cell_type": "code",
   "execution_count": 65,
   "metadata": {
    "colab": {
     "base_uri": "https://localhost:8080/",
     "height": 206
    },
    "id": "WzU1mucsjVUT",
    "outputId": "3e7fcc3b-f572-4029-8903-3acc473613ff",
    "scrolled": true
   },
   "outputs": [
    {
     "data": {
      "text/html": [
       "<div>\n",
       "<style scoped>\n",
       "    .dataframe tbody tr th:only-of-type {\n",
       "        vertical-align: middle;\n",
       "    }\n",
       "\n",
       "    .dataframe tbody tr th {\n",
       "        vertical-align: top;\n",
       "    }\n",
       "\n",
       "    .dataframe thead th {\n",
       "        text-align: right;\n",
       "    }\n",
       "</style>\n",
       "<table border=\"1\" class=\"dataframe\">\n",
       "  <thead>\n",
       "    <tr style=\"text-align: right;\">\n",
       "      <th></th>\n",
       "      <th>Survived</th>\n",
       "    </tr>\n",
       "  </thead>\n",
       "  <tbody>\n",
       "    <tr>\n",
       "      <th>0</th>\n",
       "      <td>0</td>\n",
       "    </tr>\n",
       "    <tr>\n",
       "      <th>1</th>\n",
       "      <td>1</td>\n",
       "    </tr>\n",
       "    <tr>\n",
       "      <th>2</th>\n",
       "      <td>1</td>\n",
       "    </tr>\n",
       "    <tr>\n",
       "      <th>3</th>\n",
       "      <td>1</td>\n",
       "    </tr>\n",
       "    <tr>\n",
       "      <th>4</th>\n",
       "      <td>0</td>\n",
       "    </tr>\n",
       "  </tbody>\n",
       "</table>\n",
       "</div>"
      ],
      "text/plain": [
       "   Survived\n",
       "0         0\n",
       "1         1\n",
       "2         1\n",
       "3         1\n",
       "4         0"
      ]
     },
     "execution_count": 65,
     "metadata": {},
     "output_type": "execute_result"
    }
   ],
   "source": [
    "target.head()"
   ]
  },
  {
   "cell_type": "markdown",
   "metadata": {
    "id": "cG9GAm2mO4De"
   },
   "source": [
    "### Membuat Prediksi dengan single data (input list)\n",
    "Bagian ini juga dibuat dalam bentuk format script (Program). File berjudul \"ProgramPrediksiSurvivalTitanicDisaster_InputSingleList.py\" "
   ]
  },
  {
   "cell_type": "code",
   "execution_count": 54,
   "metadata": {
    "colab": {
     "base_uri": "https://localhost:8080/"
    },
    "id": "B4mIbF7POyab",
    "outputId": "a559037c-2f4e-4f88-a223-aa095e887e03",
    "scrolled": true
   },
   "outputs": [
    {
     "name": "stdout",
     "output_type": "stream",
     "text": [
      "=====Beli Ticket=====\n",
      "Kelas Sosial-Ekonomi (Up=1,Mid=2,Low=3) : 3\n",
      "Jenis Kelamin (pria=0, wanita=1): 0\n",
      "Jumlah Rombongan Keberangkatan : 3\n",
      "Usia : 34\n",
      "Jumlah Uang yang bersedia dikeluarkan (USD): 25\n",
      "====Terima Kasih!====\n",
      " \n",
      "=====Titanic Disaster====\n",
      "Prediksi nasibmu :\n",
      "Hati-hati, kemungkinan besar kamu Tidak bisa Survive!\n"
     ]
    }
   ],
   "source": [
    "print(\"=====Beli Ticket=====\")\n",
    "kelas = int(input(\"Kelas Sosial-Ekonomi (Up=1,Mid=2,Low=3) : \"))\n",
    "jk = int(input(\"Jenis Kelamin (pria=0, wanita=1): \"))\n",
    "uk_rom = int(input(\"Jumlah Rombongan Keberangkatan : \"))\n",
    "usia = int(input(\"Usia : \"))\n",
    "tarif = int(input(\"Jumlah Uang yang bersedia dikeluarkan (USD): \"))\n",
    "print(\"====Terima Kasih!====\")\n",
    "\n",
    "#Kel_Usia\n",
    "if usia<=20 :\n",
    "  kel_usia = 0\n",
    "elif usia<=26 :\n",
    "  kel_usia = 1\n",
    "elif usia<=30 :\n",
    "  kel_usia = 2\n",
    "elif usia<=38 :\n",
    "  kel_usia = 3\n",
    "else :\n",
    "  kel_usia = 4\n",
    "\n",
    "#Kel_tf\n",
    "if tarif<8 :\n",
    "  kel_tf = 0\n",
    "elif tarif<11 :\n",
    "  kel_tf = 1\n",
    "elif tarif<22 :\n",
    "  kel_tf = 2\n",
    "elif tarif<40 :\n",
    "  kel_tf = 3\n",
    "else :\n",
    "  kel_tf = 4\n",
    "\n",
    "#Prediksi\n",
    "print(\" \")\n",
    "print(\"=====Titanic Disaster====\")\n",
    "print(\"Prediksi nasibmu :\")\n",
    "\n",
    "pred_list = [kelas,jk,uk_rom,kel_usia,kel_tf]\n",
    "targetku = single_predict_titanic(pred_list, model_weight, model_bias)\n",
    "if targetku==1 :\n",
    "  print('Selamat, kemungkinan besar kamu Survive!')\n",
    "else :\n",
    "  print('Hati-hati, kemungkinan besar kamu Tidak bisa Survive!')\n"
   ]
  },
  {
   "cell_type": "markdown",
   "metadata": {},
   "source": [
    "# <center> SELESAI"
   ]
  },
  {
   "cell_type": "markdown",
   "metadata": {
    "id": "uTVGOJknhynM"
   },
   "source": [
    "### Evaluasi Akurasi hasil Prediksi data Test Titanic"
   ]
  },
  {
   "cell_type": "code",
   "execution_count": 77,
   "metadata": {
    "colab": {
     "base_uri": "https://localhost:8080/"
    },
    "id": "hOHfK8T4ehck",
    "outputId": "f8bd1ba5-1ed9-4e9f-967d-2502c45ca269"
   },
   "outputs": [
    {
     "name": "stdout",
     "output_type": "stream",
     "text": [
      "Accuracy Score : 0.7597765363128491\n"
     ]
    }
   ],
   "source": [
    "#Skor Akurasi\n",
    "from sklearn.metrics import accuracy_score\n",
    "print(\"Accuracy Score : \" + str(accuracy_score(y_test, pred_test)))"
   ]
  },
  {
   "cell_type": "code",
   "execution_count": 78,
   "metadata": {
    "colab": {
     "base_uri": "https://localhost:8080/"
    },
    "id": "EXISgzqgjxIb",
    "outputId": "5646d856-75f2-4868-fa04-cfd4cf0fd217"
   },
   "outputs": [
    {
     "name": "stdout",
     "output_type": "stream",
     "text": [
      "[[92 19]\n",
      " [24 44]]\n"
     ]
    }
   ],
   "source": [
    "from sklearn.metrics import confusion_matrix\n",
    "print(confusion_matrix(y_test, pred_test))"
   ]
  },
  {
   "cell_type": "markdown",
   "metadata": {
    "id": "mJa1Tz0RwZ5-"
   },
   "source": [
    "# Catatan Lain"
   ]
  },
  {
   "cell_type": "markdown",
   "metadata": {},
   "source": [
    "## Choose Model"
   ]
  },
  {
   "cell_type": "markdown",
   "metadata": {},
   "source": [
    "### SVM"
   ]
  },
  {
   "cell_type": "code",
   "execution_count": 7,
   "metadata": {},
   "outputs": [],
   "source": [
    "from sklearn.svm import SVC\n",
    "svc = SVC(kernel='linear')"
   ]
  },
  {
   "cell_type": "code",
   "execution_count": 11,
   "metadata": {},
   "outputs": [
    {
     "data": {
      "text/plain": [
       "0.7541899441340782"
      ]
     },
     "execution_count": 11,
     "metadata": {},
     "output_type": "execute_result"
    }
   ],
   "source": [
    "from sklearn.metrics import accuracy_score\n",
    "svc.fit(X_train, y_train)\n",
    "y_pred = svc.predict(X_test)\n",
    "accuracy_score(y_test, y_pred)"
   ]
  },
  {
   "cell_type": "markdown",
   "metadata": {},
   "source": [
    "### ANN"
   ]
  },
  {
   "cell_type": "code",
   "execution_count": 23,
   "metadata": {},
   "outputs": [],
   "source": [
    "from keras.layers import Dense"
   ]
  },
  {
   "cell_type": "code",
   "execution_count": 30,
   "metadata": {},
   "outputs": [
    {
     "name": "stdout",
     "output_type": "stream",
     "text": [
      "Epoch 1/10\n",
      "60/60 [==============================] - 0s 7ms/step - loss: 0.6501 - accuracy: 0.6334 - val_loss: 0.6190 - val_accuracy: 0.6536\n",
      "Epoch 2/10\n",
      "60/60 [==============================] - 0s 3ms/step - loss: 0.6015 - accuracy: 0.6910 - val_loss: 0.5971 - val_accuracy: 0.6592\n",
      "Epoch 3/10\n",
      "60/60 [==============================] - 0s 2ms/step - loss: 0.5719 - accuracy: 0.7219 - val_loss: 0.5819 - val_accuracy: 0.7039\n",
      "Epoch 4/10\n",
      "60/60 [==============================] - 0s 2ms/step - loss: 0.5505 - accuracy: 0.7416 - val_loss: 0.5694 - val_accuracy: 0.7207\n",
      "Epoch 5/10\n",
      "60/60 [==============================] - 0s 3ms/step - loss: 0.5328 - accuracy: 0.7542 - val_loss: 0.5616 - val_accuracy: 0.7207\n",
      "Epoch 6/10\n",
      "60/60 [==============================] - 0s 2ms/step - loss: 0.5155 - accuracy: 0.7626 - val_loss: 0.5536 - val_accuracy: 0.7207\n",
      "Epoch 7/10\n",
      "60/60 [==============================] - 0s 2ms/step - loss: 0.4986 - accuracy: 0.7669 - val_loss: 0.5479 - val_accuracy: 0.7430\n",
      "Epoch 8/10\n",
      "60/60 [==============================] - 0s 2ms/step - loss: 0.4830 - accuracy: 0.7739 - val_loss: 0.5390 - val_accuracy: 0.7430\n",
      "Epoch 9/10\n",
      "60/60 [==============================] - 0s 2ms/step - loss: 0.4686 - accuracy: 0.7781 - val_loss: 0.5304 - val_accuracy: 0.7430\n",
      "Epoch 10/10\n",
      "60/60 [==============================] - 0s 2ms/step - loss: 0.4595 - accuracy: 0.7753 - val_loss: 0.5288 - val_accuracy: 0.7430\n"
     ]
    },
    {
     "data": {
      "text/plain": [
       "<tensorflow.python.keras.callbacks.History at 0x1f315ef15b0>"
      ]
     },
     "execution_count": 30,
     "metadata": {},
     "output_type": "execute_result"
    }
   ],
   "source": [
    "from keras.models import Sequential\n",
    "mod = Sequential([\n",
    "    Dense(12, input_dim=5, activation='relu'),\n",
    "    Dense(8, activation='relu'),\n",
    "    Dense(1, activation='sigmoid')\n",
    "])\n",
    "mod.compile(optimizer='adam',\n",
    "            loss='binary_crossentropy',\n",
    "            metrics=['accuracy'])\n",
    "mod.fit(X_train, y_train, epochs=10, batch_size=12,\n",
    "       validation_data=(X_test, y_test))"
   ]
  }
 ],
 "metadata": {
  "colab": {
   "name": "UTS_ML_NotebookPresentation.ipynb",
   "provenance": []
  },
  "kernelspec": {
   "display_name": "Python 3",
   "language": "python",
   "name": "python3"
  },
  "language_info": {
   "codemirror_mode": {
    "name": "ipython",
    "version": 3
   },
   "file_extension": ".py",
   "mimetype": "text/x-python",
   "name": "python",
   "nbconvert_exporter": "python",
   "pygments_lexer": "ipython3",
   "version": "3.8.3"
  }
 },
 "nbformat": 4,
 "nbformat_minor": 1
}
